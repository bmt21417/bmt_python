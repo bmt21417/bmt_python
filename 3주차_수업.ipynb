{
  "nbformat": 4,
  "nbformat_minor": 0,
  "metadata": {
    "colab": {
      "name": "3주차 수업.ipynb",
      "provenance": [],
      "collapsed_sections": [],
      "authorship_tag": "ABX9TyPvJkGOJI1jMJ21ZVBU3RgD",
      "include_colab_link": true
    },
    "kernelspec": {
      "name": "python3",
      "display_name": "Python 3"
    },
    "language_info": {
      "name": "python"
    }
  },
  "cells": [
    {
      "cell_type": "markdown",
      "metadata": {
        "id": "view-in-github",
        "colab_type": "text"
      },
      "source": [
        "<a href=\"https://colab.research.google.com/github/bmt21417/bmt_python/blob/main/3%EC%A3%BC%EC%B0%A8_%EC%88%98%EC%97%85.ipynb\" target=\"_parent\"><img src=\"https://colab.research.google.com/assets/colab-badge.svg\" alt=\"Open In Colab\"/></a>"
      ]
    },
    {
      "cell_type": "markdown",
      "metadata": {
        "id": "fGnsirBHXQtB"
      },
      "source": [
        "함수불러오기"
      ]
    },
    {
      "cell_type": "code",
      "metadata": {
        "colab": {
          "base_uri": "https://localhost:8080/"
        },
        "id": "T3mg8Ns9J99n",
        "outputId": "81f03a35-599a-4430-f185-ec20edfbb4e1"
      },
      "source": [
        "from random import randint\n",
        "dice = randint(1,6)\n",
        "print(dice)"
      ],
      "execution_count": null,
      "outputs": [
        {
          "output_type": "stream",
          "text": [
            "4\n"
          ],
          "name": "stdout"
        }
      ]
    },
    {
      "cell_type": "code",
      "metadata": {
        "colab": {
          "base_uri": "https://localhost:8080/"
        },
        "id": "1CFOsEG1MS-R",
        "outputId": "d5d61b4c-d69f-4ef4-85e5-a7d8bb826c3c"
      },
      "source": [
        "import math\n",
        "math.sin(0.52)"
      ],
      "execution_count": null,
      "outputs": [
        {
          "output_type": "execute_result",
          "data": {
            "text/plain": [
              "0.49688013784373675"
            ]
          },
          "metadata": {
            "tags": []
          },
          "execution_count": 35
        }
      ]
    },
    {
      "cell_type": "code",
      "metadata": {
        "colab": {
          "base_uri": "https://localhost:8080/"
        },
        "id": "rkUDDRcsTfNB",
        "outputId": "3e911722-f845-4d76-a50a-7a415935a4d7"
      },
      "source": [
        "import math\n",
        "\n",
        "math.sqrt(2)"
      ],
      "execution_count": null,
      "outputs": [
        {
          "output_type": "execute_result",
          "data": {
            "text/plain": [
              "1.4142135623730951"
            ]
          },
          "metadata": {
            "tags": []
          },
          "execution_count": 36
        }
      ]
    },
    {
      "cell_type": "code",
      "metadata": {
        "id": "BV9z_mQlZlci"
      },
      "source": [
        "import math\n",
        "a = math. /6\n",
        "math.sin(a)"
      ],
      "execution_count": null,
      "outputs": []
    },
    {
      "cell_type": "code",
      "metadata": {
        "colab": {
          "base_uri": "https://localhost:8080/"
        },
        "id": "dL_EsT1pZzOS",
        "outputId": "cdf5e9ce-1c0e-425c-c497-c6d5421ef52a"
      },
      "source": [
        "name = '부산기계공고'\n",
        "for i in name:\n",
        "  print(i)"
      ],
      "execution_count": null,
      "outputs": [
        {
          "output_type": "stream",
          "text": [
            "부\n",
            "산\n",
            "기\n",
            "계\n",
            "공\n",
            "고\n"
          ],
          "name": "stdout"
        }
      ]
    },
    {
      "cell_type": "code",
      "metadata": {
        "colab": {
          "base_uri": "https://localhost:8080/"
        },
        "id": "gQat-mtGaM9g",
        "outputId": "919f8cb3-8e50-4d28-b035-d7456a8b2bf0"
      },
      "source": [
        "for i in name:\n",
        "  print(i, end='')"
      ],
      "execution_count": null,
      "outputs": [
        {
          "output_type": "stream",
          "text": [
            "부산기계공고"
          ],
          "name": "stdout"
        }
      ]
    },
    {
      "cell_type": "code",
      "metadata": {
        "colab": {
          "base_uri": "https://localhost:8080/"
        },
        "id": "jLsjHpe4ax3Y",
        "outputId": "72e15853-8f71-4456-bb8b-c975241cdb0f"
      },
      "source": [
        "for i in [0, 1, 2, 3]:\n",
        "  print(f'(i)의 제곱근 : {i**2}')"
      ],
      "execution_count": null,
      "outputs": [
        {
          "output_type": "stream",
          "text": [
            "(i)의 제곱근 : 0\n",
            "(i)의 제곱근 : 1\n",
            "(i)의 제곱근 : 4\n",
            "(i)의 제곱근 : 9\n"
          ],
          "name": "stdout"
        }
      ]
    },
    {
      "cell_type": "code",
      "metadata": {
        "colab": {
          "base_uri": "https://localhost:8080/"
        },
        "id": "AhPMzALdb1Bn",
        "outputId": "9cc92ee0-21a4-4abc-d982-77b52fc04ab8"
      },
      "source": [
        "for i in range(10):\n",
        "  print(f'(i))의 제곱근 : {i**2}')"
      ],
      "execution_count": null,
      "outputs": [
        {
          "output_type": "stream",
          "text": [
            "(i))의 제곱근 : 0\n",
            "(i))의 제곱근 : 1\n",
            "(i))의 제곱근 : 4\n",
            "(i))의 제곱근 : 9\n",
            "(i))의 제곱근 : 16\n",
            "(i))의 제곱근 : 25\n",
            "(i))의 제곱근 : 36\n",
            "(i))의 제곱근 : 49\n",
            "(i))의 제곱근 : 64\n",
            "(i))의 제곱근 : 81\n"
          ],
          "name": "stdout"
        }
      ]
    },
    {
      "cell_type": "code",
      "metadata": {
        "colab": {
          "base_uri": "https://localhost:8080/"
        },
        "id": "6t73SGKRb8xB",
        "outputId": "e9bc893f-28c9-4d5c-e0e5-fd9b230e8ae2"
      },
      "source": [
        "for i in range(1, 10, 3):\n",
        "  print(i**2)"
      ],
      "execution_count": null,
      "outputs": [
        {
          "output_type": "stream",
          "text": [
            "1\n",
            "16\n",
            "49\n"
          ],
          "name": "stdout"
        }
      ]
    },
    {
      "cell_type": "code",
      "metadata": {
        "colab": {
          "base_uri": "https://localhost:8080/"
        },
        "id": "F9NTpB1gdAoV",
        "outputId": "20d74c70-276a-4149-b849-f245d472f051"
      },
      "source": [
        "if 10 > 0:\n",
        "  print('안녕하세요')"
      ],
      "execution_count": null,
      "outputs": [
        {
          "output_type": "stream",
          "text": [
            "안녕하세요\n"
          ],
          "name": "stdout"
        }
      ]
    },
    {
      "cell_type": "code",
      "metadata": {
        "colab": {
          "base_uri": "https://localhost:8080/"
        },
        "id": "kj2twTWTdsT1",
        "outputId": "52dc7ad5-6ae4-4825-e2da-0dd8345cf012"
      },
      "source": [
        "for _ in range(5):\n",
        "  print('전기과 화이팅!')"
      ],
      "execution_count": null,
      "outputs": [
        {
          "output_type": "stream",
          "text": [
            "전기과 화이팅!\n",
            "전기과 화이팅!\n",
            "전기과 화이팅!\n",
            "전기과 화이팅!\n",
            "전기과 화이팅!\n"
          ],
          "name": "stdout"
        }
      ]
    },
    {
      "cell_type": "code",
      "metadata": {
        "colab": {
          "base_uri": "https://localhost:8080/"
        },
        "id": "DWWTCkUid0eh",
        "outputId": "a416e746-087d-44df-aa6a-b7a018458b42"
      },
      "source": [
        "if 10 != 0 and 5 % 2 ==1:\n",
        "  print('안녕하세요')"
      ],
      "execution_count": null,
      "outputs": [
        {
          "output_type": "stream",
          "text": [
            "안녕하세요\n"
          ],
          "name": "stdout"
        }
      ]
    },
    {
      "cell_type": "code",
      "metadata": {
        "colab": {
          "base_uri": "https://localhost:8080/"
        },
        "id": "j4nUnyCOeNka",
        "outputId": "56a3e1bc-5aae-4d6f-ef4e-89af3ca750cb"
      },
      "source": [
        "passwd = int(input('비밀번호 4자리 숫자 입력 : '))\n",
        "if passwd == 2021:\n",
        "  print('비밀번호가 일치')\n",
        "elif passwd == 2020 :\n",
        "  print('이문자에 1 더하세요')\n",
        "else :\n",
        "  print('틀렸습니다')\n"
      ],
      "execution_count": null,
      "outputs": [
        {
          "output_type": "stream",
          "text": [
            "비밀번호 4자리 숫자 입력 : 2020\n",
            "이문자에 1 더하세요\n"
          ],
          "name": "stdout"
        }
      ]
    },
    {
      "cell_type": "code",
      "metadata": {
        "colab": {
          "base_uri": "https://localhost:8080/"
        },
        "id": "FxjmmHfAekPr",
        "outputId": "3c8973b9-5ee1-40a5-8a93-f428fe350648"
      },
      "source": [
        "for i in range(1,100000):\n",
        "  if i == 2020:\n",
        "    print('비밀번호가 일치')\n",
        "    print(f'비밀번호 입니다')"
      ],
      "execution_count": null,
      "outputs": [
        {
          "output_type": "stream",
          "text": [
            "비밀번호가 일치\n",
            "비밀번호 입니다\n"
          ],
          "name": "stdout"
        }
      ]
    },
    {
      "cell_type": "code",
      "metadata": {
        "colab": {
          "base_uri": "https://localhost:8080/"
        },
        "id": "QSw2I9oXgRLt",
        "outputId": "cc594be2-ecbf-4b1b-f64b-649f9f39d61e"
      },
      "source": [
        "# 심리게임 프로그램\n",
        "\n",
        "print('[ 소름끼치도록 놀라운 심리테스트 ]')\n",
        "\n",
        "menu = input('당신이 좋아하는 과일을 입력해주세요 : ')\n",
        "\n",
        "if menu == '바나나':\n",
        "  print(f'당신은 {menu}을 좋아하는 사람입니다.')\n",
        "elif menu == '사과':\n",
        "  print(f'당신은 {menu}을 좋아하는 사람입니다.')\n",
        "elif menu == '딸기':\n",
        "  print(f'당신은 {menu}을 좋아하는 사람입니다.')\n",
        "else :\n",
        "  print(f'당신은 사과, 바나나, 딸기를 좋아하지 않는 사람입니다.')"
      ],
      "execution_count": null,
      "outputs": [
        {
          "output_type": "stream",
          "text": [
            "[ 소름끼치도록 놀라운 심리테스트 ]\n",
            "당신이 좋아하는 과일을 입력해주세요 : 딸기\n",
            "당신은 딸기을 좋아하는 사람입니다.\n"
          ],
          "name": "stdout"
        }
      ]
    },
    {
      "cell_type": "code",
      "metadata": {
        "id": "iGJq85Isglu7"
      },
      "source": [
        ""
      ],
      "execution_count": null,
      "outputs": []
    }
  ]
}