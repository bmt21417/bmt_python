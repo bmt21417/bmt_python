{
  "nbformat": 4,
  "nbformat_minor": 0,
  "metadata": {
    "colab": {
      "name": "8주차_21417.ipynb",
      "provenance": [],
      "collapsed_sections": [],
      "mount_file_id": "1RBk-1-mxUi2BRiByeCpUT9cwAJQJk5l9",
      "authorship_tag": "ABX9TyPgPoEcGoi65W4O9teSF2r/",
      "include_colab_link": true
    },
    "kernelspec": {
      "name": "python3",
      "display_name": "Python 3"
    },
    "language_info": {
      "name": "python"
    }
  },
  "cells": [
    {
      "cell_type": "markdown",
      "metadata": {
        "id": "view-in-github",
        "colab_type": "text"
      },
      "source": [
        "<a href=\"https://colab.research.google.com/github/bmt21417/bmt_python/blob/main/8%EC%A3%BC%EC%B0%A8_21417.ipynb\" target=\"_parent\"><img src=\"https://colab.research.google.com/assets/colab-badge.svg\" alt=\"Open In Colab\"/></a>"
      ]
    },
    {
      "cell_type": "code",
      "metadata": {
        "id": "FaI58RMqZOEX"
      },
      "source": [
        "def cal(num1, num2, op) : \n",
        "  ans = 0\n",
        "  if   op == '+' : ans = num1 + num2\n",
        "  elif op == '-' : ans = num1 - num2\n",
        "  elif op == 'x' : ans = num1 * num2\n",
        "  elif op == '/' : ans = num1 / num2\n",
        "\n",
        "print(f'{num1}{op}{num2} = {ans}') "
      ],
      "execution_count": null,
      "outputs": []
    },
    {
      "cell_type": "code",
      "metadata": {
        "colab": {
          "base_uri": "https://localhost:8080/"
        },
        "id": "5ASc9ByVdIER",
        "outputId": "4dd44e27-338d-4d66-aadb-a9187e967c13"
      },
      "source": [
        "cal(1,2,'+'), cal(1,2,'*'), cal(1,2,'+')"
      ],
      "execution_count": 6,
      "outputs": [
        {
          "output_type": "execute_result",
          "data": {
            "text/plain": [
              "(None, None, None)"
            ]
          },
          "metadata": {
            "tags": []
          },
          "execution_count": 6
        }
      ]
    },
    {
      "cell_type": "code",
      "metadata": {
        "colab": {
          "base_uri": "https://localhost:8080/"
        },
        "id": "0GrSusuDdStB",
        "outputId": "ebf290bd-870c-4d2c-8a8b-c5121def2248"
      },
      "source": [
        "\n",
        "width = int(input('가로 입력 : '))\n",
        "height = int(input('세로입력  : '))\n",
        "\n",
        "area = width * height\n",
        "\n",
        "if width == height : print(f'정사각형 넓이 : {area}')\n",
        "else : print(f'직사각형 넓이 : {area}')"
      ],
      "execution_count": 8,
      "outputs": [
        {
          "output_type": "stream",
          "text": [
            "가로 입력 : 1\n",
            "세로입력  : 2\n",
            "직사각형 넓이 : 2\n"
          ],
          "name": "stdout"
        }
      ]
    },
    {
      "cell_type": "code",
      "metadata": {
        "id": "GRnHg2hofHLp"
      },
      "source": [
        "path = '/content/drive/My Drive/DATA/'\n",
        "fp = open(path+'지역평균기온.txt') \n",
        "data = fp.read()\n",
        "fp.close()\n",
        "print(data)"
      ],
      "execution_count": null,
      "outputs": []
    },
    {
      "cell_type": "code",
      "metadata": {
        "id": "SDAZdsq6kKUL"
      },
      "source": [
        "f = open('나의 다짐. txt,r')\n",
        "data = f .readline()\n",
        "f. else() \n",
        "data"
      ],
      "execution_count": null,
      "outputs": []
    },
    {
      "cell_type": "code",
      "metadata": {
        "id": "nhNWS6udoLO0"
      },
      "source": [
        "\n",
        "path = '/content/drive/My Drive/DATA/'\n",
        "\n",
        "f = open(path+'test.txt','w') \n",
        "\n",
        "inData = input('기록할 내용1 : ')\n",
        "f.write(inData + '\\n')\n",
        "\n",
        "inData = input('기록할 내용2 : ')\n",
        "f.write(inData + '\\n')\n",
        "\n",
        "f.close()\n",
        "\n",
        "\n",
        "f = open(path+'test.txt','a')\n",
        "\n",
        "inData = input('기록할 내용3 : ')\n",
        "f.write(inData)\n",
        "\n",
        "f.close()"
      ],
      "execution_count": null,
      "outputs": []
    },
    {
      "cell_type": "code",
      "metadata": {
        "id": "Vwjd3kABoULC"
      },
      "source": [
        "fp = open(path+'지역평균기온.txt', 'r', encoding='utf-8') \n",
        "data = fp.readlines()\n",
        "fp.close()\n",
        "dt = ()\n",
        "for line in data :\n",
        "  line = line.replace('\\n','')\n",
        "  item = line .split('.')\n"
      ],
      "execution_count": null,
      "outputs": []
    },
    {
      "cell_type": "code",
      "metadata": {
        "id": "mgpYSZKyoySy"
      },
      "source": [
        "path = '/content/drive/My Drive/DATA/'\n",
        "\n",
        "fp = open(path+'지역평균기온.txt', 'r', encoding='utf-8') \n",
        "data = fp.readlines()\n",
        "fp.close()\n",
        "\n",
        "dt = {}\n",
        "\n",
        "for line in data : \n",
        "  line = line.replace('\\n', '')\n",
        "  items = line.split(',')\n",
        "  dt[items[0]] = int(items[1])\n",
        "print(dt)\n",
        "\n",
        "area = list(dt.keys())\n",
        "temp = list(dt.values())\n",
        "print(area)\n",
        "print(temp)\n",
        "\n",
        "import matplotlib.pyplot as plt\n",
        "\n",
        "plt.rc('font', family='NanumBarunGothic') # 한글 글꼴 설정\n",
        "\n",
        "plt.figure(figsize=(10, 5))\n",
        "plt.plot(area, temp, 'go--', color='skyblue')\n",
        "plt.xticks(rotation=0)\n",
        "plt.title('지역평균기온')\n",
        "plt.show()"
      ],
      "execution_count": null,
      "outputs": []
    },
    {
      "cell_type": "code",
      "metadata": {
        "id": "JrRaJlZcqJqD"
      },
      "source": [
        "fp = open('지역평균기온.txt','r')\n",
        "data = fp.readlines()\n",
        "fp.close()\n",
        "\n",
        "dt = {}\n",
        "\n",
        "for line in data:\n",
        "  line = line.replace('\\n','')\n",
        "  items = line.split(',')\n",
        "  dt[items[0]]=items[1]\n",
        "\n",
        "print(dt)\n",
        "print()\n",
        "\n",
        "import matplotlib.pyplot as plt\n",
        "import warnings\n",
        "warnings.filterwarnings('ignore')\n",
        "\n",
        "plt.rc('font', family='NanumBarunGothic') # 한글 글꼴 설정\n",
        "\n",
        "plt.figure(figsize=(6,3))\n",
        "plt.plot([2,6,3,1,10])\n",
        "plt.show()"
      ],
      "execution_count": null,
      "outputs": []
    }
  ]
}