{
  "nbformat": 4,
  "nbformat_minor": 0,
  "metadata": {
    "colab": {
      "name": "21417_9주차실습.ipynb",
      "provenance": [],
      "collapsed_sections": [],
      "authorship_tag": "ABX9TyP6BUKNFuZGV82uYOQHRC6g",
      "include_colab_link": true
    },
    "kernelspec": {
      "name": "python3",
      "display_name": "Python 3"
    },
    "language_info": {
      "name": "python"
    }
  },
  "cells": [
    {
      "cell_type": "markdown",
      "metadata": {
        "id": "view-in-github",
        "colab_type": "text"
      },
      "source": [
        "<a href=\"https://colab.research.google.com/github/bmt21417/bmt_python/blob/main/21417_9%EC%A3%BC%EC%B0%A8%EC%8B%A4%EC%8A%B5.ipynb\" target=\"_parent\"><img src=\"https://colab.research.google.com/assets/colab-badge.svg\" alt=\"Open In Colab\"/></a>"
      ]
    },
    {
      "cell_type": "code",
      "metadata": {
        "id": "eeS5sbbtdVKs"
      },
      "source": [
        "import pandas as pd\n",
        "import numpy as np\n",
        "import matplotlib.pyplot as plt"
      ],
      "execution_count": null,
      "outputs": []
    },
    {
      "cell_type": "code",
      "metadata": {
        "colab": {
          "base_uri": "https://localhost:8080/",
          "height": 506
        },
        "id": "QLOBWIiwiMuR",
        "outputId": "8c043d77-08c0-42e2-8ebe-68f38951ed85"
      },
      "source": [
        "import pandas as pd\n",
        "import numpy as np\n",
        "\n",
        "s = pd.Series([1, 3, 5, np.nan, 6, 8]) \n",
        "print(type(s))\n",
        "print(s)\n",
        "\n",
        "print(type(df))\n",
        "print(df)\n",
        "df"
      ],
      "execution_count": 18,
      "outputs": [
        {
          "output_type": "stream",
          "text": [
            "<class 'pandas.core.series.Series'>\n",
            "0    1.0\n",
            "1    3.0\n",
            "2    5.0\n",
            "3    NaN\n",
            "4    6.0\n",
            "5    8.0\n",
            "dtype: float64\n",
            "<class 'pandas.core.frame.DataFrame'>\n",
            "                   A         B         C         D\n",
            "2021-04-30  0.252167 -0.586866  0.288533  1.180007\n",
            "2021-05-01 -0.524396  0.916967  2.175116 -0.330603\n",
            "2021-05-02  0.750354 -0.420066 -1.284814  0.982759\n",
            "2021-05-03 -0.628494  0.425328 -0.109018 -0.332383\n",
            "2021-05-04 -0.852439 -0.292975  0.803537 -0.853423\n",
            "2021-05-05  0.921454 -0.428168 -1.053447 -0.136114\n"
          ],
          "name": "stdout"
        },
        {
          "output_type": "execute_result",
          "data": {
            "text/html": [
              "<div>\n",
              "<style scoped>\n",
              "    .dataframe tbody tr th:only-of-type {\n",
              "        vertical-align: middle;\n",
              "    }\n",
              "\n",
              "    .dataframe tbody tr th {\n",
              "        vertical-align: top;\n",
              "    }\n",
              "\n",
              "    .dataframe thead th {\n",
              "        text-align: right;\n",
              "    }\n",
              "</style>\n",
              "<table border=\"1\" class=\"dataframe\">\n",
              "  <thead>\n",
              "    <tr style=\"text-align: right;\">\n",
              "      <th></th>\n",
              "      <th>A</th>\n",
              "      <th>B</th>\n",
              "      <th>C</th>\n",
              "      <th>D</th>\n",
              "    </tr>\n",
              "  </thead>\n",
              "  <tbody>\n",
              "    <tr>\n",
              "      <th>2021-04-30</th>\n",
              "      <td>0.252167</td>\n",
              "      <td>-0.586866</td>\n",
              "      <td>0.288533</td>\n",
              "      <td>1.180007</td>\n",
              "    </tr>\n",
              "    <tr>\n",
              "      <th>2021-05-01</th>\n",
              "      <td>-0.524396</td>\n",
              "      <td>0.916967</td>\n",
              "      <td>2.175116</td>\n",
              "      <td>-0.330603</td>\n",
              "    </tr>\n",
              "    <tr>\n",
              "      <th>2021-05-02</th>\n",
              "      <td>0.750354</td>\n",
              "      <td>-0.420066</td>\n",
              "      <td>-1.284814</td>\n",
              "      <td>0.982759</td>\n",
              "    </tr>\n",
              "    <tr>\n",
              "      <th>2021-05-03</th>\n",
              "      <td>-0.628494</td>\n",
              "      <td>0.425328</td>\n",
              "      <td>-0.109018</td>\n",
              "      <td>-0.332383</td>\n",
              "    </tr>\n",
              "    <tr>\n",
              "      <th>2021-05-04</th>\n",
              "      <td>-0.852439</td>\n",
              "      <td>-0.292975</td>\n",
              "      <td>0.803537</td>\n",
              "      <td>-0.853423</td>\n",
              "    </tr>\n",
              "    <tr>\n",
              "      <th>2021-05-05</th>\n",
              "      <td>0.921454</td>\n",
              "      <td>-0.428168</td>\n",
              "      <td>-1.053447</td>\n",
              "      <td>-0.136114</td>\n",
              "    </tr>\n",
              "  </tbody>\n",
              "</table>\n",
              "</div>"
            ],
            "text/plain": [
              "                   A         B         C         D\n",
              "2021-04-30  0.252167 -0.586866  0.288533  1.180007\n",
              "2021-05-01 -0.524396  0.916967  2.175116 -0.330603\n",
              "2021-05-02  0.750354 -0.420066 -1.284814  0.982759\n",
              "2021-05-03 -0.628494  0.425328 -0.109018 -0.332383\n",
              "2021-05-04 -0.852439 -0.292975  0.803537 -0.853423\n",
              "2021-05-05  0.921454 -0.428168 -1.053447 -0.136114"
            ]
          },
          "metadata": {
            "tags": []
          },
          "execution_count": 18
        }
      ]
    },
    {
      "cell_type": "code",
      "metadata": {
        "colab": {
          "base_uri": "https://localhost:8080/"
        },
        "id": "I_qgcf63h_Ne",
        "outputId": "e1eea5ae-799d-4f81-cb3c-efaa469407ea"
      },
      "source": [
        "type(s)"
      ],
      "execution_count": 5,
      "outputs": [
        {
          "output_type": "execute_result",
          "data": {
            "text/plain": [
              "pandas.core.series.Series"
            ]
          },
          "metadata": {
            "tags": []
          },
          "execution_count": 5
        }
      ]
    },
    {
      "cell_type": "code",
      "metadata": {
        "id": "749s9adTiHrw"
      },
      "source": [
        "dates = pd.date_range('20210430', periods=6)"
      ],
      "execution_count": 6,
      "outputs": []
    },
    {
      "cell_type": "code",
      "metadata": {
        "colab": {
          "base_uri": "https://localhost:8080/",
          "height": 225
        },
        "id": "37Qi_tpQifMR",
        "outputId": "1d9192e7-b3e0-438d-897e-ffddc02f1927"
      },
      "source": [
        "df"
      ],
      "execution_count": 15,
      "outputs": [
        {
          "output_type": "execute_result",
          "data": {
            "text/html": [
              "<div>\n",
              "<style scoped>\n",
              "    .dataframe tbody tr th:only-of-type {\n",
              "        vertical-align: middle;\n",
              "    }\n",
              "\n",
              "    .dataframe tbody tr th {\n",
              "        vertical-align: top;\n",
              "    }\n",
              "\n",
              "    .dataframe thead th {\n",
              "        text-align: right;\n",
              "    }\n",
              "</style>\n",
              "<table border=\"1\" class=\"dataframe\">\n",
              "  <thead>\n",
              "    <tr style=\"text-align: right;\">\n",
              "      <th></th>\n",
              "      <th>A</th>\n",
              "      <th>B</th>\n",
              "      <th>C</th>\n",
              "      <th>D</th>\n",
              "    </tr>\n",
              "  </thead>\n",
              "  <tbody>\n",
              "    <tr>\n",
              "      <th>2021-04-30</th>\n",
              "      <td>0.252167</td>\n",
              "      <td>-0.586866</td>\n",
              "      <td>0.288533</td>\n",
              "      <td>1.180007</td>\n",
              "    </tr>\n",
              "    <tr>\n",
              "      <th>2021-05-01</th>\n",
              "      <td>-0.524396</td>\n",
              "      <td>0.916967</td>\n",
              "      <td>2.175116</td>\n",
              "      <td>-0.330603</td>\n",
              "    </tr>\n",
              "    <tr>\n",
              "      <th>2021-05-02</th>\n",
              "      <td>0.750354</td>\n",
              "      <td>-0.420066</td>\n",
              "      <td>-1.284814</td>\n",
              "      <td>0.982759</td>\n",
              "    </tr>\n",
              "    <tr>\n",
              "      <th>2021-05-03</th>\n",
              "      <td>-0.628494</td>\n",
              "      <td>0.425328</td>\n",
              "      <td>-0.109018</td>\n",
              "      <td>-0.332383</td>\n",
              "    </tr>\n",
              "    <tr>\n",
              "      <th>2021-05-04</th>\n",
              "      <td>-0.852439</td>\n",
              "      <td>-0.292975</td>\n",
              "      <td>0.803537</td>\n",
              "      <td>-0.853423</td>\n",
              "    </tr>\n",
              "    <tr>\n",
              "      <th>2021-05-05</th>\n",
              "      <td>0.921454</td>\n",
              "      <td>-0.428168</td>\n",
              "      <td>-1.053447</td>\n",
              "      <td>-0.136114</td>\n",
              "    </tr>\n",
              "  </tbody>\n",
              "</table>\n",
              "</div>"
            ],
            "text/plain": [
              "                   A         B         C         D\n",
              "2021-04-30  0.252167 -0.586866  0.288533  1.180007\n",
              "2021-05-01 -0.524396  0.916967  2.175116 -0.330603\n",
              "2021-05-02  0.750354 -0.420066 -1.284814  0.982759\n",
              "2021-05-03 -0.628494  0.425328 -0.109018 -0.332383\n",
              "2021-05-04 -0.852439 -0.292975  0.803537 -0.853423\n",
              "2021-05-05  0.921454 -0.428168 -1.053447 -0.136114"
            ]
          },
          "metadata": {
            "tags": []
          },
          "execution_count": 15
        }
      ]
    },
    {
      "cell_type": "code",
      "metadata": {
        "id": "85lDVuo1ihN6"
      },
      "source": [
        "\n",
        "df2 = pd.DataFrame(\n",
        "    {\n",
        "        'A': 1.,\n",
        "        'B': pd.Timestamp('20210430'),\n",
        "        'C': pd.Series(1, index=list(range(4)), dtype='float32'),\n",
        "        'D': np.array([3] * 4, dtype='int32'),\n",
        "        'E': pd.Categorical([\"test\", \"train\", \"test\", \"train\"]),\n",
        "        'F': 'foo'\n",
        "     }\n",
        ")\n",
        "\n"
      ],
      "execution_count": 22,
      "outputs": []
    },
    {
      "cell_type": "code",
      "metadata": {
        "colab": {
          "base_uri": "https://localhost:8080/",
          "height": 166
        },
        "id": "d36Bkj4Fj9V-",
        "outputId": "f4373395-9502-46b2-e9a8-e5a7970ee270"
      },
      "source": [
        "df2"
      ],
      "execution_count": 23,
      "outputs": [
        {
          "output_type": "execute_result",
          "data": {
            "text/html": [
              "<div>\n",
              "<style scoped>\n",
              "    .dataframe tbody tr th:only-of-type {\n",
              "        vertical-align: middle;\n",
              "    }\n",
              "\n",
              "    .dataframe tbody tr th {\n",
              "        vertical-align: top;\n",
              "    }\n",
              "\n",
              "    .dataframe thead th {\n",
              "        text-align: right;\n",
              "    }\n",
              "</style>\n",
              "<table border=\"1\" class=\"dataframe\">\n",
              "  <thead>\n",
              "    <tr style=\"text-align: right;\">\n",
              "      <th></th>\n",
              "      <th>A</th>\n",
              "      <th>B</th>\n",
              "      <th>C</th>\n",
              "      <th>D</th>\n",
              "      <th>E</th>\n",
              "      <th>F</th>\n",
              "    </tr>\n",
              "  </thead>\n",
              "  <tbody>\n",
              "    <tr>\n",
              "      <th>0</th>\n",
              "      <td>1.0</td>\n",
              "      <td>2021-04-30</td>\n",
              "      <td>1.0</td>\n",
              "      <td>3</td>\n",
              "      <td>test</td>\n",
              "      <td>foo</td>\n",
              "    </tr>\n",
              "    <tr>\n",
              "      <th>1</th>\n",
              "      <td>1.0</td>\n",
              "      <td>2021-04-30</td>\n",
              "      <td>1.0</td>\n",
              "      <td>3</td>\n",
              "      <td>train</td>\n",
              "      <td>foo</td>\n",
              "    </tr>\n",
              "    <tr>\n",
              "      <th>2</th>\n",
              "      <td>1.0</td>\n",
              "      <td>2021-04-30</td>\n",
              "      <td>1.0</td>\n",
              "      <td>3</td>\n",
              "      <td>test</td>\n",
              "      <td>foo</td>\n",
              "    </tr>\n",
              "    <tr>\n",
              "      <th>3</th>\n",
              "      <td>1.0</td>\n",
              "      <td>2021-04-30</td>\n",
              "      <td>1.0</td>\n",
              "      <td>3</td>\n",
              "      <td>train</td>\n",
              "      <td>foo</td>\n",
              "    </tr>\n",
              "  </tbody>\n",
              "</table>\n",
              "</div>"
            ],
            "text/plain": [
              "     A          B    C  D      E    F\n",
              "0  1.0 2021-04-30  1.0  3   test  foo\n",
              "1  1.0 2021-04-30  1.0  3  train  foo\n",
              "2  1.0 2021-04-30  1.0  3   test  foo\n",
              "3  1.0 2021-04-30  1.0  3  train  foo"
            ]
          },
          "metadata": {
            "tags": []
          },
          "execution_count": 23
        }
      ]
    },
    {
      "cell_type": "code",
      "metadata": {
        "colab": {
          "base_uri": "https://localhost:8080/"
        },
        "id": "c5f3v7XxlEIz",
        "outputId": "84eb9673-d13c-4572-9f0b-e4362fb34830"
      },
      "source": [
        "type(df2)"
      ],
      "execution_count": 24,
      "outputs": [
        {
          "output_type": "execute_result",
          "data": {
            "text/plain": [
              "pandas.core.frame.DataFrame"
            ]
          },
          "metadata": {
            "tags": []
          },
          "execution_count": 24
        }
      ]
    },
    {
      "cell_type": "code",
      "metadata": {
        "colab": {
          "base_uri": "https://localhost:8080/",
          "height": 195
        },
        "id": "nYjgZXNplIKP",
        "outputId": "a56f748e-a442-4498-830b-1f32256884d6"
      },
      "source": [
        "df.head()"
      ],
      "execution_count": 25,
      "outputs": [
        {
          "output_type": "execute_result",
          "data": {
            "text/html": [
              "<div>\n",
              "<style scoped>\n",
              "    .dataframe tbody tr th:only-of-type {\n",
              "        vertical-align: middle;\n",
              "    }\n",
              "\n",
              "    .dataframe tbody tr th {\n",
              "        vertical-align: top;\n",
              "    }\n",
              "\n",
              "    .dataframe thead th {\n",
              "        text-align: right;\n",
              "    }\n",
              "</style>\n",
              "<table border=\"1\" class=\"dataframe\">\n",
              "  <thead>\n",
              "    <tr style=\"text-align: right;\">\n",
              "      <th></th>\n",
              "      <th>A</th>\n",
              "      <th>B</th>\n",
              "      <th>C</th>\n",
              "      <th>D</th>\n",
              "    </tr>\n",
              "  </thead>\n",
              "  <tbody>\n",
              "    <tr>\n",
              "      <th>2021-04-30</th>\n",
              "      <td>0.252167</td>\n",
              "      <td>-0.586866</td>\n",
              "      <td>0.288533</td>\n",
              "      <td>1.180007</td>\n",
              "    </tr>\n",
              "    <tr>\n",
              "      <th>2021-05-01</th>\n",
              "      <td>-0.524396</td>\n",
              "      <td>0.916967</td>\n",
              "      <td>2.175116</td>\n",
              "      <td>-0.330603</td>\n",
              "    </tr>\n",
              "    <tr>\n",
              "      <th>2021-05-02</th>\n",
              "      <td>0.750354</td>\n",
              "      <td>-0.420066</td>\n",
              "      <td>-1.284814</td>\n",
              "      <td>0.982759</td>\n",
              "    </tr>\n",
              "    <tr>\n",
              "      <th>2021-05-03</th>\n",
              "      <td>-0.628494</td>\n",
              "      <td>0.425328</td>\n",
              "      <td>-0.109018</td>\n",
              "      <td>-0.332383</td>\n",
              "    </tr>\n",
              "    <tr>\n",
              "      <th>2021-05-04</th>\n",
              "      <td>-0.852439</td>\n",
              "      <td>-0.292975</td>\n",
              "      <td>0.803537</td>\n",
              "      <td>-0.853423</td>\n",
              "    </tr>\n",
              "  </tbody>\n",
              "</table>\n",
              "</div>"
            ],
            "text/plain": [
              "                   A         B         C         D\n",
              "2021-04-30  0.252167 -0.586866  0.288533  1.180007\n",
              "2021-05-01 -0.524396  0.916967  2.175116 -0.330603\n",
              "2021-05-02  0.750354 -0.420066 -1.284814  0.982759\n",
              "2021-05-03 -0.628494  0.425328 -0.109018 -0.332383\n",
              "2021-05-04 -0.852439 -0.292975  0.803537 -0.853423"
            ]
          },
          "metadata": {
            "tags": []
          },
          "execution_count": 25
        }
      ]
    },
    {
      "cell_type": "code",
      "metadata": {
        "colab": {
          "base_uri": "https://localhost:8080/",
          "height": 195
        },
        "id": "-A-Cp704mK8A",
        "outputId": "0da81c31-2759-44a5-fe14-c27400ca14d2"
      },
      "source": [
        "df.tail()"
      ],
      "execution_count": 26,
      "outputs": [
        {
          "output_type": "execute_result",
          "data": {
            "text/html": [
              "<div>\n",
              "<style scoped>\n",
              "    .dataframe tbody tr th:only-of-type {\n",
              "        vertical-align: middle;\n",
              "    }\n",
              "\n",
              "    .dataframe tbody tr th {\n",
              "        vertical-align: top;\n",
              "    }\n",
              "\n",
              "    .dataframe thead th {\n",
              "        text-align: right;\n",
              "    }\n",
              "</style>\n",
              "<table border=\"1\" class=\"dataframe\">\n",
              "  <thead>\n",
              "    <tr style=\"text-align: right;\">\n",
              "      <th></th>\n",
              "      <th>A</th>\n",
              "      <th>B</th>\n",
              "      <th>C</th>\n",
              "      <th>D</th>\n",
              "    </tr>\n",
              "  </thead>\n",
              "  <tbody>\n",
              "    <tr>\n",
              "      <th>2021-05-01</th>\n",
              "      <td>-0.524396</td>\n",
              "      <td>0.916967</td>\n",
              "      <td>2.175116</td>\n",
              "      <td>-0.330603</td>\n",
              "    </tr>\n",
              "    <tr>\n",
              "      <th>2021-05-02</th>\n",
              "      <td>0.750354</td>\n",
              "      <td>-0.420066</td>\n",
              "      <td>-1.284814</td>\n",
              "      <td>0.982759</td>\n",
              "    </tr>\n",
              "    <tr>\n",
              "      <th>2021-05-03</th>\n",
              "      <td>-0.628494</td>\n",
              "      <td>0.425328</td>\n",
              "      <td>-0.109018</td>\n",
              "      <td>-0.332383</td>\n",
              "    </tr>\n",
              "    <tr>\n",
              "      <th>2021-05-04</th>\n",
              "      <td>-0.852439</td>\n",
              "      <td>-0.292975</td>\n",
              "      <td>0.803537</td>\n",
              "      <td>-0.853423</td>\n",
              "    </tr>\n",
              "    <tr>\n",
              "      <th>2021-05-05</th>\n",
              "      <td>0.921454</td>\n",
              "      <td>-0.428168</td>\n",
              "      <td>-1.053447</td>\n",
              "      <td>-0.136114</td>\n",
              "    </tr>\n",
              "  </tbody>\n",
              "</table>\n",
              "</div>"
            ],
            "text/plain": [
              "                   A         B         C         D\n",
              "2021-05-01 -0.524396  0.916967  2.175116 -0.330603\n",
              "2021-05-02  0.750354 -0.420066 -1.284814  0.982759\n",
              "2021-05-03 -0.628494  0.425328 -0.109018 -0.332383\n",
              "2021-05-04 -0.852439 -0.292975  0.803537 -0.853423\n",
              "2021-05-05  0.921454 -0.428168 -1.053447 -0.136114"
            ]
          },
          "metadata": {
            "tags": []
          },
          "execution_count": 26
        }
      ]
    },
    {
      "cell_type": "code",
      "metadata": {
        "colab": {
          "base_uri": "https://localhost:8080/",
          "height": 225
        },
        "id": "-UjAvdVUmOhX",
        "outputId": "daa0a5f8-3826-4081-b4be-895abfc3e1df"
      },
      "source": [
        "df"
      ],
      "execution_count": 27,
      "outputs": [
        {
          "output_type": "execute_result",
          "data": {
            "text/html": [
              "<div>\n",
              "<style scoped>\n",
              "    .dataframe tbody tr th:only-of-type {\n",
              "        vertical-align: middle;\n",
              "    }\n",
              "\n",
              "    .dataframe tbody tr th {\n",
              "        vertical-align: top;\n",
              "    }\n",
              "\n",
              "    .dataframe thead th {\n",
              "        text-align: right;\n",
              "    }\n",
              "</style>\n",
              "<table border=\"1\" class=\"dataframe\">\n",
              "  <thead>\n",
              "    <tr style=\"text-align: right;\">\n",
              "      <th></th>\n",
              "      <th>A</th>\n",
              "      <th>B</th>\n",
              "      <th>C</th>\n",
              "      <th>D</th>\n",
              "    </tr>\n",
              "  </thead>\n",
              "  <tbody>\n",
              "    <tr>\n",
              "      <th>2021-04-30</th>\n",
              "      <td>0.252167</td>\n",
              "      <td>-0.586866</td>\n",
              "      <td>0.288533</td>\n",
              "      <td>1.180007</td>\n",
              "    </tr>\n",
              "    <tr>\n",
              "      <th>2021-05-01</th>\n",
              "      <td>-0.524396</td>\n",
              "      <td>0.916967</td>\n",
              "      <td>2.175116</td>\n",
              "      <td>-0.330603</td>\n",
              "    </tr>\n",
              "    <tr>\n",
              "      <th>2021-05-02</th>\n",
              "      <td>0.750354</td>\n",
              "      <td>-0.420066</td>\n",
              "      <td>-1.284814</td>\n",
              "      <td>0.982759</td>\n",
              "    </tr>\n",
              "    <tr>\n",
              "      <th>2021-05-03</th>\n",
              "      <td>-0.628494</td>\n",
              "      <td>0.425328</td>\n",
              "      <td>-0.109018</td>\n",
              "      <td>-0.332383</td>\n",
              "    </tr>\n",
              "    <tr>\n",
              "      <th>2021-05-04</th>\n",
              "      <td>-0.852439</td>\n",
              "      <td>-0.292975</td>\n",
              "      <td>0.803537</td>\n",
              "      <td>-0.853423</td>\n",
              "    </tr>\n",
              "    <tr>\n",
              "      <th>2021-05-05</th>\n",
              "      <td>0.921454</td>\n",
              "      <td>-0.428168</td>\n",
              "      <td>-1.053447</td>\n",
              "      <td>-0.136114</td>\n",
              "    </tr>\n",
              "  </tbody>\n",
              "</table>\n",
              "</div>"
            ],
            "text/plain": [
              "                   A         B         C         D\n",
              "2021-04-30  0.252167 -0.586866  0.288533  1.180007\n",
              "2021-05-01 -0.524396  0.916967  2.175116 -0.330603\n",
              "2021-05-02  0.750354 -0.420066 -1.284814  0.982759\n",
              "2021-05-03 -0.628494  0.425328 -0.109018 -0.332383\n",
              "2021-05-04 -0.852439 -0.292975  0.803537 -0.853423\n",
              "2021-05-05  0.921454 -0.428168 -1.053447 -0.136114"
            ]
          },
          "metadata": {
            "tags": []
          },
          "execution_count": 27
        }
      ]
    },
    {
      "cell_type": "code",
      "metadata": {
        "colab": {
          "base_uri": "https://localhost:8080/"
        },
        "id": "3fYiLpnumgBg",
        "outputId": "1c378957-8ad9-4216-a525-d72bedbf9af5"
      },
      "source": [
        "df.index"
      ],
      "execution_count": 28,
      "outputs": [
        {
          "output_type": "execute_result",
          "data": {
            "text/plain": [
              "DatetimeIndex(['2021-04-30', '2021-05-01', '2021-05-02', '2021-05-03',\n",
              "               '2021-05-04', '2021-05-05'],\n",
              "              dtype='datetime64[ns]', freq='D')"
            ]
          },
          "metadata": {
            "tags": []
          },
          "execution_count": 28
        }
      ]
    },
    {
      "cell_type": "code",
      "metadata": {
        "colab": {
          "base_uri": "https://localhost:8080/"
        },
        "id": "9OWeZFEqmilb",
        "outputId": "3cf30d4b-176d-4c86-f8f8-3c8634422761"
      },
      "source": [
        "df.columns"
      ],
      "execution_count": 31,
      "outputs": [
        {
          "output_type": "execute_result",
          "data": {
            "text/plain": [
              "Index(['A', 'B', 'C', 'D'], dtype='object')"
            ]
          },
          "metadata": {
            "tags": []
          },
          "execution_count": 31
        }
      ]
    },
    {
      "cell_type": "code",
      "metadata": {
        "colab": {
          "base_uri": "https://localhost:8080/"
        },
        "id": "gRdachpkmj3w",
        "outputId": "a893b4a0-7bed-4afe-f1ee-31d94d90f7d5"
      },
      "source": [
        "df.values"
      ],
      "execution_count": 33,
      "outputs": [
        {
          "output_type": "execute_result",
          "data": {
            "text/plain": [
              "array([[ 0.25216655, -0.58686624,  0.28853296,  1.18000749],\n",
              "       [-0.52439612,  0.91696744,  2.17511591, -0.33060261],\n",
              "       [ 0.75035444, -0.42006553, -1.28481397,  0.98275889],\n",
              "       [-0.62849413,  0.42532791, -0.10901835, -0.33238265],\n",
              "       [-0.85243879, -0.29297466,  0.8035369 , -0.85342331],\n",
              "       [ 0.92145412, -0.42816793, -1.05344717, -0.13611424]])"
            ]
          },
          "metadata": {
            "tags": []
          },
          "execution_count": 33
        }
      ]
    },
    {
      "cell_type": "code",
      "metadata": {
        "colab": {
          "base_uri": "https://localhost:8080/",
          "height": 225
        },
        "id": "05tlfniumt1n",
        "outputId": "77c3281d-5ea4-4af6-fdd1-1de73e2f5907"
      },
      "source": [
        "df"
      ],
      "execution_count": 34,
      "outputs": [
        {
          "output_type": "execute_result",
          "data": {
            "text/html": [
              "<div>\n",
              "<style scoped>\n",
              "    .dataframe tbody tr th:only-of-type {\n",
              "        vertical-align: middle;\n",
              "    }\n",
              "\n",
              "    .dataframe tbody tr th {\n",
              "        vertical-align: top;\n",
              "    }\n",
              "\n",
              "    .dataframe thead th {\n",
              "        text-align: right;\n",
              "    }\n",
              "</style>\n",
              "<table border=\"1\" class=\"dataframe\">\n",
              "  <thead>\n",
              "    <tr style=\"text-align: right;\">\n",
              "      <th></th>\n",
              "      <th>A</th>\n",
              "      <th>B</th>\n",
              "      <th>C</th>\n",
              "      <th>D</th>\n",
              "    </tr>\n",
              "  </thead>\n",
              "  <tbody>\n",
              "    <tr>\n",
              "      <th>2021-04-30</th>\n",
              "      <td>0.252167</td>\n",
              "      <td>-0.586866</td>\n",
              "      <td>0.288533</td>\n",
              "      <td>1.180007</td>\n",
              "    </tr>\n",
              "    <tr>\n",
              "      <th>2021-05-01</th>\n",
              "      <td>-0.524396</td>\n",
              "      <td>0.916967</td>\n",
              "      <td>2.175116</td>\n",
              "      <td>-0.330603</td>\n",
              "    </tr>\n",
              "    <tr>\n",
              "      <th>2021-05-02</th>\n",
              "      <td>0.750354</td>\n",
              "      <td>-0.420066</td>\n",
              "      <td>-1.284814</td>\n",
              "      <td>0.982759</td>\n",
              "    </tr>\n",
              "    <tr>\n",
              "      <th>2021-05-03</th>\n",
              "      <td>-0.628494</td>\n",
              "      <td>0.425328</td>\n",
              "      <td>-0.109018</td>\n",
              "      <td>-0.332383</td>\n",
              "    </tr>\n",
              "    <tr>\n",
              "      <th>2021-05-04</th>\n",
              "      <td>-0.852439</td>\n",
              "      <td>-0.292975</td>\n",
              "      <td>0.803537</td>\n",
              "      <td>-0.853423</td>\n",
              "    </tr>\n",
              "    <tr>\n",
              "      <th>2021-05-05</th>\n",
              "      <td>0.921454</td>\n",
              "      <td>-0.428168</td>\n",
              "      <td>-1.053447</td>\n",
              "      <td>-0.136114</td>\n",
              "    </tr>\n",
              "  </tbody>\n",
              "</table>\n",
              "</div>"
            ],
            "text/plain": [
              "                   A         B         C         D\n",
              "2021-04-30  0.252167 -0.586866  0.288533  1.180007\n",
              "2021-05-01 -0.524396  0.916967  2.175116 -0.330603\n",
              "2021-05-02  0.750354 -0.420066 -1.284814  0.982759\n",
              "2021-05-03 -0.628494  0.425328 -0.109018 -0.332383\n",
              "2021-05-04 -0.852439 -0.292975  0.803537 -0.853423\n",
              "2021-05-05  0.921454 -0.428168 -1.053447 -0.136114"
            ]
          },
          "metadata": {
            "tags": []
          },
          "execution_count": 34
        }
      ]
    },
    {
      "cell_type": "code",
      "metadata": {
        "colab": {
          "base_uri": "https://localhost:8080/",
          "height": 166
        },
        "id": "KzCNyDsym-Cj",
        "outputId": "21d468a0-7e54-4266-951c-98deb9902e6b"
      },
      "source": [
        "df.T"
      ],
      "execution_count": 37,
      "outputs": [
        {
          "output_type": "execute_result",
          "data": {
            "text/html": [
              "<div>\n",
              "<style scoped>\n",
              "    .dataframe tbody tr th:only-of-type {\n",
              "        vertical-align: middle;\n",
              "    }\n",
              "\n",
              "    .dataframe tbody tr th {\n",
              "        vertical-align: top;\n",
              "    }\n",
              "\n",
              "    .dataframe thead th {\n",
              "        text-align: right;\n",
              "    }\n",
              "</style>\n",
              "<table border=\"1\" class=\"dataframe\">\n",
              "  <thead>\n",
              "    <tr style=\"text-align: right;\">\n",
              "      <th></th>\n",
              "      <th>2021-04-30</th>\n",
              "      <th>2021-05-01</th>\n",
              "      <th>2021-05-02</th>\n",
              "      <th>2021-05-03</th>\n",
              "      <th>2021-05-04</th>\n",
              "      <th>2021-05-05</th>\n",
              "    </tr>\n",
              "  </thead>\n",
              "  <tbody>\n",
              "    <tr>\n",
              "      <th>A</th>\n",
              "      <td>0.252167</td>\n",
              "      <td>-0.524396</td>\n",
              "      <td>0.750354</td>\n",
              "      <td>-0.628494</td>\n",
              "      <td>-0.852439</td>\n",
              "      <td>0.921454</td>\n",
              "    </tr>\n",
              "    <tr>\n",
              "      <th>B</th>\n",
              "      <td>-0.586866</td>\n",
              "      <td>0.916967</td>\n",
              "      <td>-0.420066</td>\n",
              "      <td>0.425328</td>\n",
              "      <td>-0.292975</td>\n",
              "      <td>-0.428168</td>\n",
              "    </tr>\n",
              "    <tr>\n",
              "      <th>C</th>\n",
              "      <td>0.288533</td>\n",
              "      <td>2.175116</td>\n",
              "      <td>-1.284814</td>\n",
              "      <td>-0.109018</td>\n",
              "      <td>0.803537</td>\n",
              "      <td>-1.053447</td>\n",
              "    </tr>\n",
              "    <tr>\n",
              "      <th>D</th>\n",
              "      <td>1.180007</td>\n",
              "      <td>-0.330603</td>\n",
              "      <td>0.982759</td>\n",
              "      <td>-0.332383</td>\n",
              "      <td>-0.853423</td>\n",
              "      <td>-0.136114</td>\n",
              "    </tr>\n",
              "  </tbody>\n",
              "</table>\n",
              "</div>"
            ],
            "text/plain": [
              "   2021-04-30  2021-05-01  2021-05-02  2021-05-03  2021-05-04  2021-05-05\n",
              "A    0.252167   -0.524396    0.750354   -0.628494   -0.852439    0.921454\n",
              "B   -0.586866    0.916967   -0.420066    0.425328   -0.292975   -0.428168\n",
              "C    0.288533    2.175116   -1.284814   -0.109018    0.803537   -1.053447\n",
              "D    1.180007   -0.330603    0.982759   -0.332383   -0.853423   -0.136114"
            ]
          },
          "metadata": {
            "tags": []
          },
          "execution_count": 37
        }
      ]
    },
    {
      "cell_type": "code",
      "metadata": {
        "colab": {
          "base_uri": "https://localhost:8080/",
          "height": 225
        },
        "id": "Cg9UmGlTpS-4",
        "outputId": "bca67514-6913-473c-85aa-01fb27346fec"
      },
      "source": [
        "df.sort_index(axis=0, ascending=True)"
      ],
      "execution_count": 42,
      "outputs": [
        {
          "output_type": "execute_result",
          "data": {
            "text/html": [
              "<div>\n",
              "<style scoped>\n",
              "    .dataframe tbody tr th:only-of-type {\n",
              "        vertical-align: middle;\n",
              "    }\n",
              "\n",
              "    .dataframe tbody tr th {\n",
              "        vertical-align: top;\n",
              "    }\n",
              "\n",
              "    .dataframe thead th {\n",
              "        text-align: right;\n",
              "    }\n",
              "</style>\n",
              "<table border=\"1\" class=\"dataframe\">\n",
              "  <thead>\n",
              "    <tr style=\"text-align: right;\">\n",
              "      <th></th>\n",
              "      <th>A</th>\n",
              "      <th>B</th>\n",
              "      <th>C</th>\n",
              "      <th>D</th>\n",
              "    </tr>\n",
              "  </thead>\n",
              "  <tbody>\n",
              "    <tr>\n",
              "      <th>2021-04-30</th>\n",
              "      <td>0.252167</td>\n",
              "      <td>-0.586866</td>\n",
              "      <td>0.288533</td>\n",
              "      <td>1.180007</td>\n",
              "    </tr>\n",
              "    <tr>\n",
              "      <th>2021-05-01</th>\n",
              "      <td>-0.524396</td>\n",
              "      <td>0.916967</td>\n",
              "      <td>2.175116</td>\n",
              "      <td>-0.330603</td>\n",
              "    </tr>\n",
              "    <tr>\n",
              "      <th>2021-05-02</th>\n",
              "      <td>0.750354</td>\n",
              "      <td>-0.420066</td>\n",
              "      <td>-1.284814</td>\n",
              "      <td>0.982759</td>\n",
              "    </tr>\n",
              "    <tr>\n",
              "      <th>2021-05-03</th>\n",
              "      <td>-0.628494</td>\n",
              "      <td>0.425328</td>\n",
              "      <td>-0.109018</td>\n",
              "      <td>-0.332383</td>\n",
              "    </tr>\n",
              "    <tr>\n",
              "      <th>2021-05-04</th>\n",
              "      <td>-0.852439</td>\n",
              "      <td>-0.292975</td>\n",
              "      <td>0.803537</td>\n",
              "      <td>-0.853423</td>\n",
              "    </tr>\n",
              "    <tr>\n",
              "      <th>2021-05-05</th>\n",
              "      <td>0.921454</td>\n",
              "      <td>-0.428168</td>\n",
              "      <td>-1.053447</td>\n",
              "      <td>-0.136114</td>\n",
              "    </tr>\n",
              "  </tbody>\n",
              "</table>\n",
              "</div>"
            ],
            "text/plain": [
              "                   A         B         C         D\n",
              "2021-04-30  0.252167 -0.586866  0.288533  1.180007\n",
              "2021-05-01 -0.524396  0.916967  2.175116 -0.330603\n",
              "2021-05-02  0.750354 -0.420066 -1.284814  0.982759\n",
              "2021-05-03 -0.628494  0.425328 -0.109018 -0.332383\n",
              "2021-05-04 -0.852439 -0.292975  0.803537 -0.853423\n",
              "2021-05-05  0.921454 -0.428168 -1.053447 -0.136114"
            ]
          },
          "metadata": {
            "tags": []
          },
          "execution_count": 42
        }
      ]
    },
    {
      "cell_type": "code",
      "metadata": {
        "colab": {
          "base_uri": "https://localhost:8080/",
          "height": 225
        },
        "id": "fGe1wb_jpdLb",
        "outputId": "dff351c1-ef0c-4497-c88a-7e27abc390e6"
      },
      "source": [
        "df.sort_index(axis=0, ascending=False)"
      ],
      "execution_count": 45,
      "outputs": [
        {
          "output_type": "execute_result",
          "data": {
            "text/html": [
              "<div>\n",
              "<style scoped>\n",
              "    .dataframe tbody tr th:only-of-type {\n",
              "        vertical-align: middle;\n",
              "    }\n",
              "\n",
              "    .dataframe tbody tr th {\n",
              "        vertical-align: top;\n",
              "    }\n",
              "\n",
              "    .dataframe thead th {\n",
              "        text-align: right;\n",
              "    }\n",
              "</style>\n",
              "<table border=\"1\" class=\"dataframe\">\n",
              "  <thead>\n",
              "    <tr style=\"text-align: right;\">\n",
              "      <th></th>\n",
              "      <th>A</th>\n",
              "      <th>B</th>\n",
              "      <th>C</th>\n",
              "      <th>D</th>\n",
              "    </tr>\n",
              "  </thead>\n",
              "  <tbody>\n",
              "    <tr>\n",
              "      <th>2021-05-05</th>\n",
              "      <td>0.921454</td>\n",
              "      <td>-0.428168</td>\n",
              "      <td>-1.053447</td>\n",
              "      <td>-0.136114</td>\n",
              "    </tr>\n",
              "    <tr>\n",
              "      <th>2021-05-04</th>\n",
              "      <td>-0.852439</td>\n",
              "      <td>-0.292975</td>\n",
              "      <td>0.803537</td>\n",
              "      <td>-0.853423</td>\n",
              "    </tr>\n",
              "    <tr>\n",
              "      <th>2021-05-03</th>\n",
              "      <td>-0.628494</td>\n",
              "      <td>0.425328</td>\n",
              "      <td>-0.109018</td>\n",
              "      <td>-0.332383</td>\n",
              "    </tr>\n",
              "    <tr>\n",
              "      <th>2021-05-02</th>\n",
              "      <td>0.750354</td>\n",
              "      <td>-0.420066</td>\n",
              "      <td>-1.284814</td>\n",
              "      <td>0.982759</td>\n",
              "    </tr>\n",
              "    <tr>\n",
              "      <th>2021-05-01</th>\n",
              "      <td>-0.524396</td>\n",
              "      <td>0.916967</td>\n",
              "      <td>2.175116</td>\n",
              "      <td>-0.330603</td>\n",
              "    </tr>\n",
              "    <tr>\n",
              "      <th>2021-04-30</th>\n",
              "      <td>0.252167</td>\n",
              "      <td>-0.586866</td>\n",
              "      <td>0.288533</td>\n",
              "      <td>1.180007</td>\n",
              "    </tr>\n",
              "  </tbody>\n",
              "</table>\n",
              "</div>"
            ],
            "text/plain": [
              "                   A         B         C         D\n",
              "2021-05-05  0.921454 -0.428168 -1.053447 -0.136114\n",
              "2021-05-04 -0.852439 -0.292975  0.803537 -0.853423\n",
              "2021-05-03 -0.628494  0.425328 -0.109018 -0.332383\n",
              "2021-05-02  0.750354 -0.420066 -1.284814  0.982759\n",
              "2021-05-01 -0.524396  0.916967  2.175116 -0.330603\n",
              "2021-04-30  0.252167 -0.586866  0.288533  1.180007"
            ]
          },
          "metadata": {
            "tags": []
          },
          "execution_count": 45
        }
      ]
    },
    {
      "cell_type": "code",
      "metadata": {
        "colab": {
          "base_uri": "https://localhost:8080/",
          "height": 225
        },
        "id": "-RbYxsefpp1q",
        "outputId": "d35cb792-6797-4ada-cb81-7b4056efc24d"
      },
      "source": [
        "df.sort_index(axis=0, ascending=False)"
      ],
      "execution_count": 47,
      "outputs": [
        {
          "output_type": "execute_result",
          "data": {
            "text/html": [
              "<div>\n",
              "<style scoped>\n",
              "    .dataframe tbody tr th:only-of-type {\n",
              "        vertical-align: middle;\n",
              "    }\n",
              "\n",
              "    .dataframe tbody tr th {\n",
              "        vertical-align: top;\n",
              "    }\n",
              "\n",
              "    .dataframe thead th {\n",
              "        text-align: right;\n",
              "    }\n",
              "</style>\n",
              "<table border=\"1\" class=\"dataframe\">\n",
              "  <thead>\n",
              "    <tr style=\"text-align: right;\">\n",
              "      <th></th>\n",
              "      <th>A</th>\n",
              "      <th>B</th>\n",
              "      <th>C</th>\n",
              "      <th>D</th>\n",
              "    </tr>\n",
              "  </thead>\n",
              "  <tbody>\n",
              "    <tr>\n",
              "      <th>2021-05-05</th>\n",
              "      <td>0.921454</td>\n",
              "      <td>-0.428168</td>\n",
              "      <td>-1.053447</td>\n",
              "      <td>-0.136114</td>\n",
              "    </tr>\n",
              "    <tr>\n",
              "      <th>2021-05-04</th>\n",
              "      <td>-0.852439</td>\n",
              "      <td>-0.292975</td>\n",
              "      <td>0.803537</td>\n",
              "      <td>-0.853423</td>\n",
              "    </tr>\n",
              "    <tr>\n",
              "      <th>2021-05-03</th>\n",
              "      <td>-0.628494</td>\n",
              "      <td>0.425328</td>\n",
              "      <td>-0.109018</td>\n",
              "      <td>-0.332383</td>\n",
              "    </tr>\n",
              "    <tr>\n",
              "      <th>2021-05-02</th>\n",
              "      <td>0.750354</td>\n",
              "      <td>-0.420066</td>\n",
              "      <td>-1.284814</td>\n",
              "      <td>0.982759</td>\n",
              "    </tr>\n",
              "    <tr>\n",
              "      <th>2021-05-01</th>\n",
              "      <td>-0.524396</td>\n",
              "      <td>0.916967</td>\n",
              "      <td>2.175116</td>\n",
              "      <td>-0.330603</td>\n",
              "    </tr>\n",
              "    <tr>\n",
              "      <th>2021-04-30</th>\n",
              "      <td>0.252167</td>\n",
              "      <td>-0.586866</td>\n",
              "      <td>0.288533</td>\n",
              "      <td>1.180007</td>\n",
              "    </tr>\n",
              "  </tbody>\n",
              "</table>\n",
              "</div>"
            ],
            "text/plain": [
              "                   A         B         C         D\n",
              "2021-05-05  0.921454 -0.428168 -1.053447 -0.136114\n",
              "2021-05-04 -0.852439 -0.292975  0.803537 -0.853423\n",
              "2021-05-03 -0.628494  0.425328 -0.109018 -0.332383\n",
              "2021-05-02  0.750354 -0.420066 -1.284814  0.982759\n",
              "2021-05-01 -0.524396  0.916967  2.175116 -0.330603\n",
              "2021-04-30  0.252167 -0.586866  0.288533  1.180007"
            ]
          },
          "metadata": {
            "tags": []
          },
          "execution_count": 47
        }
      ]
    },
    {
      "cell_type": "code",
      "metadata": {
        "colab": {
          "base_uri": "https://localhost:8080/",
          "height": 225
        },
        "id": "F2t1kPX9p2if",
        "outputId": "4cee083f-9cdd-4d11-ede6-48ecf995498e"
      },
      "source": [
        "df.sort_values(by='B')"
      ],
      "execution_count": 48,
      "outputs": [
        {
          "output_type": "execute_result",
          "data": {
            "text/html": [
              "<div>\n",
              "<style scoped>\n",
              "    .dataframe tbody tr th:only-of-type {\n",
              "        vertical-align: middle;\n",
              "    }\n",
              "\n",
              "    .dataframe tbody tr th {\n",
              "        vertical-align: top;\n",
              "    }\n",
              "\n",
              "    .dataframe thead th {\n",
              "        text-align: right;\n",
              "    }\n",
              "</style>\n",
              "<table border=\"1\" class=\"dataframe\">\n",
              "  <thead>\n",
              "    <tr style=\"text-align: right;\">\n",
              "      <th></th>\n",
              "      <th>A</th>\n",
              "      <th>B</th>\n",
              "      <th>C</th>\n",
              "      <th>D</th>\n",
              "    </tr>\n",
              "  </thead>\n",
              "  <tbody>\n",
              "    <tr>\n",
              "      <th>2021-04-30</th>\n",
              "      <td>0.252167</td>\n",
              "      <td>-0.586866</td>\n",
              "      <td>0.288533</td>\n",
              "      <td>1.180007</td>\n",
              "    </tr>\n",
              "    <tr>\n",
              "      <th>2021-05-05</th>\n",
              "      <td>0.921454</td>\n",
              "      <td>-0.428168</td>\n",
              "      <td>-1.053447</td>\n",
              "      <td>-0.136114</td>\n",
              "    </tr>\n",
              "    <tr>\n",
              "      <th>2021-05-02</th>\n",
              "      <td>0.750354</td>\n",
              "      <td>-0.420066</td>\n",
              "      <td>-1.284814</td>\n",
              "      <td>0.982759</td>\n",
              "    </tr>\n",
              "    <tr>\n",
              "      <th>2021-05-04</th>\n",
              "      <td>-0.852439</td>\n",
              "      <td>-0.292975</td>\n",
              "      <td>0.803537</td>\n",
              "      <td>-0.853423</td>\n",
              "    </tr>\n",
              "    <tr>\n",
              "      <th>2021-05-03</th>\n",
              "      <td>-0.628494</td>\n",
              "      <td>0.425328</td>\n",
              "      <td>-0.109018</td>\n",
              "      <td>-0.332383</td>\n",
              "    </tr>\n",
              "    <tr>\n",
              "      <th>2021-05-01</th>\n",
              "      <td>-0.524396</td>\n",
              "      <td>0.916967</td>\n",
              "      <td>2.175116</td>\n",
              "      <td>-0.330603</td>\n",
              "    </tr>\n",
              "  </tbody>\n",
              "</table>\n",
              "</div>"
            ],
            "text/plain": [
              "                   A         B         C         D\n",
              "2021-04-30  0.252167 -0.586866  0.288533  1.180007\n",
              "2021-05-05  0.921454 -0.428168 -1.053447 -0.136114\n",
              "2021-05-02  0.750354 -0.420066 -1.284814  0.982759\n",
              "2021-05-04 -0.852439 -0.292975  0.803537 -0.853423\n",
              "2021-05-03 -0.628494  0.425328 -0.109018 -0.332383\n",
              "2021-05-01 -0.524396  0.916967  2.175116 -0.330603"
            ]
          },
          "metadata": {
            "tags": []
          },
          "execution_count": 48
        }
      ]
    },
    {
      "cell_type": "code",
      "metadata": {
        "colab": {
          "base_uri": "https://localhost:8080/"
        },
        "id": "YGciHCbuqWVy",
        "outputId": "5109b6c6-7e0a-45e8-9f73-f98a933b4933"
      },
      "source": [
        "df['A']"
      ],
      "execution_count": 49,
      "outputs": [
        {
          "output_type": "execute_result",
          "data": {
            "text/plain": [
              "2021-04-30    0.252167\n",
              "2021-05-01   -0.524396\n",
              "2021-05-02    0.750354\n",
              "2021-05-03   -0.628494\n",
              "2021-05-04   -0.852439\n",
              "2021-05-05    0.921454\n",
              "Freq: D, Name: A, dtype: float64"
            ]
          },
          "metadata": {
            "tags": []
          },
          "execution_count": 49
        }
      ]
    },
    {
      "cell_type": "code",
      "metadata": {
        "colab": {
          "base_uri": "https://localhost:8080/"
        },
        "id": "yIsOSyK6qrY3",
        "outputId": "70bebb12-545c-432e-83c5-984f63a25386"
      },
      "source": [
        "df['C']"
      ],
      "execution_count": 50,
      "outputs": [
        {
          "output_type": "execute_result",
          "data": {
            "text/plain": [
              "2021-04-30    0.288533\n",
              "2021-05-01    2.175116\n",
              "2021-05-02   -1.284814\n",
              "2021-05-03   -0.109018\n",
              "2021-05-04    0.803537\n",
              "2021-05-05   -1.053447\n",
              "Freq: D, Name: C, dtype: float64"
            ]
          },
          "metadata": {
            "tags": []
          },
          "execution_count": 50
        }
      ]
    },
    {
      "cell_type": "code",
      "metadata": {
        "colab": {
          "base_uri": "https://localhost:8080/",
          "height": 225
        },
        "id": "t4O6Iuz9q9Wg",
        "outputId": "30f1f0a2-7ad2-4fd3-8e22-19d54c304ac5"
      },
      "source": [
        "df[ ['A','B'] ]"
      ],
      "execution_count": 51,
      "outputs": [
        {
          "output_type": "execute_result",
          "data": {
            "text/html": [
              "<div>\n",
              "<style scoped>\n",
              "    .dataframe tbody tr th:only-of-type {\n",
              "        vertical-align: middle;\n",
              "    }\n",
              "\n",
              "    .dataframe tbody tr th {\n",
              "        vertical-align: top;\n",
              "    }\n",
              "\n",
              "    .dataframe thead th {\n",
              "        text-align: right;\n",
              "    }\n",
              "</style>\n",
              "<table border=\"1\" class=\"dataframe\">\n",
              "  <thead>\n",
              "    <tr style=\"text-align: right;\">\n",
              "      <th></th>\n",
              "      <th>A</th>\n",
              "      <th>B</th>\n",
              "    </tr>\n",
              "  </thead>\n",
              "  <tbody>\n",
              "    <tr>\n",
              "      <th>2021-04-30</th>\n",
              "      <td>0.252167</td>\n",
              "      <td>-0.586866</td>\n",
              "    </tr>\n",
              "    <tr>\n",
              "      <th>2021-05-01</th>\n",
              "      <td>-0.524396</td>\n",
              "      <td>0.916967</td>\n",
              "    </tr>\n",
              "    <tr>\n",
              "      <th>2021-05-02</th>\n",
              "      <td>0.750354</td>\n",
              "      <td>-0.420066</td>\n",
              "    </tr>\n",
              "    <tr>\n",
              "      <th>2021-05-03</th>\n",
              "      <td>-0.628494</td>\n",
              "      <td>0.425328</td>\n",
              "    </tr>\n",
              "    <tr>\n",
              "      <th>2021-05-04</th>\n",
              "      <td>-0.852439</td>\n",
              "      <td>-0.292975</td>\n",
              "    </tr>\n",
              "    <tr>\n",
              "      <th>2021-05-05</th>\n",
              "      <td>0.921454</td>\n",
              "      <td>-0.428168</td>\n",
              "    </tr>\n",
              "  </tbody>\n",
              "</table>\n",
              "</div>"
            ],
            "text/plain": [
              "                   A         B\n",
              "2021-04-30  0.252167 -0.586866\n",
              "2021-05-01 -0.524396  0.916967\n",
              "2021-05-02  0.750354 -0.420066\n",
              "2021-05-03 -0.628494  0.425328\n",
              "2021-05-04 -0.852439 -0.292975\n",
              "2021-05-05  0.921454 -0.428168"
            ]
          },
          "metadata": {
            "tags": []
          },
          "execution_count": 51
        }
      ]
    },
    {
      "cell_type": "code",
      "metadata": {
        "colab": {
          "base_uri": "https://localhost:8080/"
        },
        "id": "xpCbqKfYrTyo",
        "outputId": "25a0e549-06e4-4ac5-c194-6193343ee5d8"
      },
      "source": [
        "df.loc['20210430']"
      ],
      "execution_count": 53,
      "outputs": [
        {
          "output_type": "execute_result",
          "data": {
            "text/plain": [
              "A    0.252167\n",
              "B   -0.586866\n",
              "C    0.288533\n",
              "D    1.180007\n",
              "Name: 2021-04-30 00:00:00, dtype: float64"
            ]
          },
          "metadata": {
            "tags": []
          },
          "execution_count": 53
        }
      ]
    },
    {
      "cell_type": "code",
      "metadata": {
        "colab": {
          "base_uri": "https://localhost:8080/",
          "height": 166
        },
        "id": "5xgWfJfks7u0",
        "outputId": "d612389d-395a-4fa6-ef42-a40d4bc0f7de"
      },
      "source": [
        "df.loc['20210430':'20210503',['A','B','C']]"
      ],
      "execution_count": 55,
      "outputs": [
        {
          "output_type": "execute_result",
          "data": {
            "text/html": [
              "<div>\n",
              "<style scoped>\n",
              "    .dataframe tbody tr th:only-of-type {\n",
              "        vertical-align: middle;\n",
              "    }\n",
              "\n",
              "    .dataframe tbody tr th {\n",
              "        vertical-align: top;\n",
              "    }\n",
              "\n",
              "    .dataframe thead th {\n",
              "        text-align: right;\n",
              "    }\n",
              "</style>\n",
              "<table border=\"1\" class=\"dataframe\">\n",
              "  <thead>\n",
              "    <tr style=\"text-align: right;\">\n",
              "      <th></th>\n",
              "      <th>A</th>\n",
              "      <th>B</th>\n",
              "      <th>C</th>\n",
              "    </tr>\n",
              "  </thead>\n",
              "  <tbody>\n",
              "    <tr>\n",
              "      <th>2021-04-30</th>\n",
              "      <td>0.252167</td>\n",
              "      <td>-0.586866</td>\n",
              "      <td>0.288533</td>\n",
              "    </tr>\n",
              "    <tr>\n",
              "      <th>2021-05-01</th>\n",
              "      <td>-0.524396</td>\n",
              "      <td>0.916967</td>\n",
              "      <td>2.175116</td>\n",
              "    </tr>\n",
              "    <tr>\n",
              "      <th>2021-05-02</th>\n",
              "      <td>0.750354</td>\n",
              "      <td>-0.420066</td>\n",
              "      <td>-1.284814</td>\n",
              "    </tr>\n",
              "    <tr>\n",
              "      <th>2021-05-03</th>\n",
              "      <td>-0.628494</td>\n",
              "      <td>0.425328</td>\n",
              "      <td>-0.109018</td>\n",
              "    </tr>\n",
              "  </tbody>\n",
              "</table>\n",
              "</div>"
            ],
            "text/plain": [
              "                   A         B         C\n",
              "2021-04-30  0.252167 -0.586866  0.288533\n",
              "2021-05-01 -0.524396  0.916967  2.175116\n",
              "2021-05-02  0.750354 -0.420066 -1.284814\n",
              "2021-05-03 -0.628494  0.425328 -0.109018"
            ]
          },
          "metadata": {
            "tags": []
          },
          "execution_count": 55
        }
      ]
    },
    {
      "cell_type": "code",
      "metadata": {
        "colab": {
          "base_uri": "https://localhost:8080/",
          "height": 136
        },
        "id": "81OMPJlbt_gP",
        "outputId": "67746b30-3daf-4990-84e9-0a5b79a7648e"
      },
      "source": [
        "df.iloc[0:3,3:4]"
      ],
      "execution_count": 56,
      "outputs": [
        {
          "output_type": "execute_result",
          "data": {
            "text/html": [
              "<div>\n",
              "<style scoped>\n",
              "    .dataframe tbody tr th:only-of-type {\n",
              "        vertical-align: middle;\n",
              "    }\n",
              "\n",
              "    .dataframe tbody tr th {\n",
              "        vertical-align: top;\n",
              "    }\n",
              "\n",
              "    .dataframe thead th {\n",
              "        text-align: right;\n",
              "    }\n",
              "</style>\n",
              "<table border=\"1\" class=\"dataframe\">\n",
              "  <thead>\n",
              "    <tr style=\"text-align: right;\">\n",
              "      <th></th>\n",
              "      <th>D</th>\n",
              "    </tr>\n",
              "  </thead>\n",
              "  <tbody>\n",
              "    <tr>\n",
              "      <th>2021-04-30</th>\n",
              "      <td>1.180007</td>\n",
              "    </tr>\n",
              "    <tr>\n",
              "      <th>2021-05-01</th>\n",
              "      <td>-0.330603</td>\n",
              "    </tr>\n",
              "    <tr>\n",
              "      <th>2021-05-02</th>\n",
              "      <td>0.982759</td>\n",
              "    </tr>\n",
              "  </tbody>\n",
              "</table>\n",
              "</div>"
            ],
            "text/plain": [
              "                   D\n",
              "2021-04-30  1.180007\n",
              "2021-05-01 -0.330603\n",
              "2021-05-02  0.982759"
            ]
          },
          "metadata": {
            "tags": []
          },
          "execution_count": 56
        }
      ]
    },
    {
      "cell_type": "code",
      "metadata": {
        "colab": {
          "base_uri": "https://localhost:8080/"
        },
        "id": "3Lf1A6qtvBVu",
        "outputId": "83b592f5-5dfa-4bf7-da6a-6e906a13b018"
      },
      "source": [
        "df.A"
      ],
      "execution_count": 59,
      "outputs": [
        {
          "output_type": "execute_result",
          "data": {
            "text/plain": [
              "2021-04-30    0.252167\n",
              "2021-05-01   -0.524396\n",
              "2021-05-02    0.750354\n",
              "2021-05-03   -0.628494\n",
              "2021-05-04   -0.852439\n",
              "2021-05-05    0.921454\n",
              "Freq: D, Name: A, dtype: float64"
            ]
          },
          "metadata": {
            "tags": []
          },
          "execution_count": 59
        }
      ]
    },
    {
      "cell_type": "code",
      "metadata": {
        "colab": {
          "base_uri": "https://localhost:8080/"
        },
        "id": "EFfNIv_ZvpYY",
        "outputId": "e73cd2d5-7597-43fc-ea66-6cf7254e2fa1"
      },
      "source": [
        "df.A > 0"
      ],
      "execution_count": 60,
      "outputs": [
        {
          "output_type": "execute_result",
          "data": {
            "text/plain": [
              "2021-04-30     True\n",
              "2021-05-01    False\n",
              "2021-05-02     True\n",
              "2021-05-03    False\n",
              "2021-05-04    False\n",
              "2021-05-05     True\n",
              "Freq: D, Name: A, dtype: bool"
            ]
          },
          "metadata": {
            "tags": []
          },
          "execution_count": 60
        }
      ]
    },
    {
      "cell_type": "code",
      "metadata": {
        "colab": {
          "base_uri": "https://localhost:8080/",
          "height": 136
        },
        "id": "-AEBJJ0BvsI0",
        "outputId": "57fd24e6-087f-4039-d5e7-e82677cbf68b"
      },
      "source": [
        "df[df. A > 0]"
      ],
      "execution_count": 62,
      "outputs": [
        {
          "output_type": "execute_result",
          "data": {
            "text/html": [
              "<div>\n",
              "<style scoped>\n",
              "    .dataframe tbody tr th:only-of-type {\n",
              "        vertical-align: middle;\n",
              "    }\n",
              "\n",
              "    .dataframe tbody tr th {\n",
              "        vertical-align: top;\n",
              "    }\n",
              "\n",
              "    .dataframe thead th {\n",
              "        text-align: right;\n",
              "    }\n",
              "</style>\n",
              "<table border=\"1\" class=\"dataframe\">\n",
              "  <thead>\n",
              "    <tr style=\"text-align: right;\">\n",
              "      <th></th>\n",
              "      <th>A</th>\n",
              "      <th>B</th>\n",
              "      <th>C</th>\n",
              "      <th>D</th>\n",
              "    </tr>\n",
              "  </thead>\n",
              "  <tbody>\n",
              "    <tr>\n",
              "      <th>2021-04-30</th>\n",
              "      <td>0.252167</td>\n",
              "      <td>-0.586866</td>\n",
              "      <td>0.288533</td>\n",
              "      <td>1.180007</td>\n",
              "    </tr>\n",
              "    <tr>\n",
              "      <th>2021-05-02</th>\n",
              "      <td>0.750354</td>\n",
              "      <td>-0.420066</td>\n",
              "      <td>-1.284814</td>\n",
              "      <td>0.982759</td>\n",
              "    </tr>\n",
              "    <tr>\n",
              "      <th>2021-05-05</th>\n",
              "      <td>0.921454</td>\n",
              "      <td>-0.428168</td>\n",
              "      <td>-1.053447</td>\n",
              "      <td>-0.136114</td>\n",
              "    </tr>\n",
              "  </tbody>\n",
              "</table>\n",
              "</div>"
            ],
            "text/plain": [
              "                   A         B         C         D\n",
              "2021-04-30  0.252167 -0.586866  0.288533  1.180007\n",
              "2021-05-02  0.750354 -0.420066 -1.284814  0.982759\n",
              "2021-05-05  0.921454 -0.428168 -1.053447 -0.136114"
            ]
          },
          "metadata": {
            "tags": []
          },
          "execution_count": 62
        }
      ]
    },
    {
      "cell_type": "code",
      "metadata": {
        "colab": {
          "base_uri": "https://localhost:8080/",
          "height": 225
        },
        "id": "HusorHHbwFLu",
        "outputId": "46077a7c-c322-41e1-e921-22fccc44cd5f"
      },
      "source": [
        "df > 0"
      ],
      "execution_count": 63,
      "outputs": [
        {
          "output_type": "execute_result",
          "data": {
            "text/html": [
              "<div>\n",
              "<style scoped>\n",
              "    .dataframe tbody tr th:only-of-type {\n",
              "        vertical-align: middle;\n",
              "    }\n",
              "\n",
              "    .dataframe tbody tr th {\n",
              "        vertical-align: top;\n",
              "    }\n",
              "\n",
              "    .dataframe thead th {\n",
              "        text-align: right;\n",
              "    }\n",
              "</style>\n",
              "<table border=\"1\" class=\"dataframe\">\n",
              "  <thead>\n",
              "    <tr style=\"text-align: right;\">\n",
              "      <th></th>\n",
              "      <th>A</th>\n",
              "      <th>B</th>\n",
              "      <th>C</th>\n",
              "      <th>D</th>\n",
              "    </tr>\n",
              "  </thead>\n",
              "  <tbody>\n",
              "    <tr>\n",
              "      <th>2021-04-30</th>\n",
              "      <td>True</td>\n",
              "      <td>False</td>\n",
              "      <td>True</td>\n",
              "      <td>True</td>\n",
              "    </tr>\n",
              "    <tr>\n",
              "      <th>2021-05-01</th>\n",
              "      <td>False</td>\n",
              "      <td>True</td>\n",
              "      <td>True</td>\n",
              "      <td>False</td>\n",
              "    </tr>\n",
              "    <tr>\n",
              "      <th>2021-05-02</th>\n",
              "      <td>True</td>\n",
              "      <td>False</td>\n",
              "      <td>False</td>\n",
              "      <td>True</td>\n",
              "    </tr>\n",
              "    <tr>\n",
              "      <th>2021-05-03</th>\n",
              "      <td>False</td>\n",
              "      <td>True</td>\n",
              "      <td>False</td>\n",
              "      <td>False</td>\n",
              "    </tr>\n",
              "    <tr>\n",
              "      <th>2021-05-04</th>\n",
              "      <td>False</td>\n",
              "      <td>False</td>\n",
              "      <td>True</td>\n",
              "      <td>False</td>\n",
              "    </tr>\n",
              "    <tr>\n",
              "      <th>2021-05-05</th>\n",
              "      <td>True</td>\n",
              "      <td>False</td>\n",
              "      <td>False</td>\n",
              "      <td>False</td>\n",
              "    </tr>\n",
              "  </tbody>\n",
              "</table>\n",
              "</div>"
            ],
            "text/plain": [
              "                A      B      C      D\n",
              "2021-04-30   True  False   True   True\n",
              "2021-05-01  False   True   True  False\n",
              "2021-05-02   True  False  False   True\n",
              "2021-05-03  False   True  False  False\n",
              "2021-05-04  False  False   True  False\n",
              "2021-05-05   True  False  False  False"
            ]
          },
          "metadata": {
            "tags": []
          },
          "execution_count": 63
        }
      ]
    },
    {
      "cell_type": "code",
      "metadata": {
        "colab": {
          "base_uri": "https://localhost:8080/",
          "height": 225
        },
        "id": "Ct_3BsrzwJzA",
        "outputId": "82817b43-fe83-42e1-8e8c-f83cda933480"
      },
      "source": [
        "df [df > 0]"
      ],
      "execution_count": 64,
      "outputs": [
        {
          "output_type": "execute_result",
          "data": {
            "text/html": [
              "<div>\n",
              "<style scoped>\n",
              "    .dataframe tbody tr th:only-of-type {\n",
              "        vertical-align: middle;\n",
              "    }\n",
              "\n",
              "    .dataframe tbody tr th {\n",
              "        vertical-align: top;\n",
              "    }\n",
              "\n",
              "    .dataframe thead th {\n",
              "        text-align: right;\n",
              "    }\n",
              "</style>\n",
              "<table border=\"1\" class=\"dataframe\">\n",
              "  <thead>\n",
              "    <tr style=\"text-align: right;\">\n",
              "      <th></th>\n",
              "      <th>A</th>\n",
              "      <th>B</th>\n",
              "      <th>C</th>\n",
              "      <th>D</th>\n",
              "    </tr>\n",
              "  </thead>\n",
              "  <tbody>\n",
              "    <tr>\n",
              "      <th>2021-04-30</th>\n",
              "      <td>0.252167</td>\n",
              "      <td>NaN</td>\n",
              "      <td>0.288533</td>\n",
              "      <td>1.180007</td>\n",
              "    </tr>\n",
              "    <tr>\n",
              "      <th>2021-05-01</th>\n",
              "      <td>NaN</td>\n",
              "      <td>0.916967</td>\n",
              "      <td>2.175116</td>\n",
              "      <td>NaN</td>\n",
              "    </tr>\n",
              "    <tr>\n",
              "      <th>2021-05-02</th>\n",
              "      <td>0.750354</td>\n",
              "      <td>NaN</td>\n",
              "      <td>NaN</td>\n",
              "      <td>0.982759</td>\n",
              "    </tr>\n",
              "    <tr>\n",
              "      <th>2021-05-03</th>\n",
              "      <td>NaN</td>\n",
              "      <td>0.425328</td>\n",
              "      <td>NaN</td>\n",
              "      <td>NaN</td>\n",
              "    </tr>\n",
              "    <tr>\n",
              "      <th>2021-05-04</th>\n",
              "      <td>NaN</td>\n",
              "      <td>NaN</td>\n",
              "      <td>0.803537</td>\n",
              "      <td>NaN</td>\n",
              "    </tr>\n",
              "    <tr>\n",
              "      <th>2021-05-05</th>\n",
              "      <td>0.921454</td>\n",
              "      <td>NaN</td>\n",
              "      <td>NaN</td>\n",
              "      <td>NaN</td>\n",
              "    </tr>\n",
              "  </tbody>\n",
              "</table>\n",
              "</div>"
            ],
            "text/plain": [
              "                   A         B         C         D\n",
              "2021-04-30  0.252167       NaN  0.288533  1.180007\n",
              "2021-05-01       NaN  0.916967  2.175116       NaN\n",
              "2021-05-02  0.750354       NaN       NaN  0.982759\n",
              "2021-05-03       NaN  0.425328       NaN       NaN\n",
              "2021-05-04       NaN       NaN  0.803537       NaN\n",
              "2021-05-05  0.921454       NaN       NaN       NaN"
            ]
          },
          "metadata": {
            "tags": []
          },
          "execution_count": 64
        }
      ]
    },
    {
      "cell_type": "code",
      "metadata": {
        "id": "9kre62v4wNsY"
      },
      "source": [
        ""
      ],
      "execution_count": null,
      "outputs": []
    }
  ]
}