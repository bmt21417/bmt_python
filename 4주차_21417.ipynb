{
  "nbformat": 4,
  "nbformat_minor": 0,
  "metadata": {
    "colab": {
      "name": "4주차_21417.ipynb",
      "provenance": [],
      "authorship_tag": "ABX9TyOgU2lkYWOPAmEzNoGAt7sz",
      "include_colab_link": true
    },
    "kernelspec": {
      "name": "python3",
      "display_name": "Python 3"
    },
    "language_info": {
      "name": "python"
    }
  },
  "cells": [
    {
      "cell_type": "markdown",
      "metadata": {
        "id": "view-in-github",
        "colab_type": "text"
      },
      "source": [
        "<a href=\"https://colab.research.google.com/github/bmt21417/bmt_python/blob/main/4%EC%A3%BC%EC%B0%A8_21417.ipynb\" target=\"_parent\"><img src=\"https://colab.research.google.com/assets/colab-badge.svg\" alt=\"Open In Colab\"/></a>"
      ]
    },
    {
      "cell_type": "code",
      "metadata": {
        "colab": {
          "base_uri": "https://localhost:8080/"
        },
        "id": "qKJg9DwmOoEt",
        "outputId": "3aa57b82-bcad-4a48-a39a-cfb9bd76c997"
      },
      "source": [
        "print('hello world', end=' ')\n",
        "print('busan')"
      ],
      "execution_count": 2,
      "outputs": [
        {
          "output_type": "stream",
          "text": [
            "hello world busan\n"
          ],
          "name": "stdout"
        }
      ]
    },
    {
      "cell_type": "code",
      "metadata": {
        "colab": {
          "base_uri": "https://localhost:8080/"
        },
        "id": "JiQZtV1KPZDc",
        "outputId": "a5400908-44aa-4e7c-c88f-d1e625070026"
      },
      "source": [
        "print('heiio , world, busan')\n",
        "print('heiio' + 'world ' + 'busan')\n",
        "print('heiio' + 'hello' + 'fello')"
      ],
      "execution_count": 10,
      "outputs": [
        {
          "output_type": "stream",
          "text": [
            "heiio , world, busan\n",
            "heiioworld busan\n",
            "heiiohellofello\n"
          ],
          "name": "stdout"
        }
      ]
    },
    {
      "cell_type": "code",
      "metadata": {
        "colab": {
          "base_uri": "https://localhost:8080/"
        },
        "id": "tW0EtWKfQJk1",
        "outputId": "c8a147a5-5d27-48ff-c938-30cb1432e9eb"
      },
      "source": [
        " x = input('X 입력: ')\n",
        " y = input('y 입력: ')\n",
        " print(x, '+', y, '=', x+y)\n",
        "\n",
        " "
      ],
      "execution_count": 14,
      "outputs": [
        {
          "output_type": "stream",
          "text": [
            "X 입력: 10\n",
            "y 입력: 20\n",
            "10 + 20 = 1020\n"
          ],
          "name": "stdout"
        }
      ]
    },
    {
      "cell_type": "code",
      "metadata": {
        "id": "ezCVhreLSKH_"
      },
      "source": [
        "x = int(x)\n",
        "y = int(y)"
      ],
      "execution_count": 15,
      "outputs": []
    },
    {
      "cell_type": "code",
      "metadata": {
        "colab": {
          "base_uri": "https://localhost:8080/"
        },
        "id": "BFEqQyiPTNbX",
        "outputId": "92c327d7-8b07-4cbd-e46b-ba21b79e1744"
      },
      "source": [
        "# 두 정수를 입력 받아서 사칙연산을 수행하는 프로그램\n",
        "\n",
        "# 입력부\n",
        "x = int(input('x 정수 입력 : '))\n",
        "y = int(input('y 정수 입력 : '))\n",
        "\n",
        "# 제어부(연산작업) + 출력부\n",
        "print(x, '+', y, '=', (x + y))\n",
        "print(x, '-', y, '=', (x - y))\n",
        "print(x, 'x', y, '=', (x * y))\n",
        "print(x, '/', y, '=', (x / y))"
      ],
      "execution_count": 16,
      "outputs": [
        {
          "output_type": "stream",
          "text": [
            "x 정수 입력 : 10 \n",
            "y 정수 입력 : 20\n",
            "10 + 20 = 30\n",
            "10 - 20 = -10\n",
            "10 x 20 = 200\n",
            "10 / 20 = 0.5\n"
          ],
          "name": "stdout"
        }
      ]
    },
    {
      "cell_type": "code",
      "metadata": {
        "colab": {
          "base_uri": "https://localhost:8080/"
        },
        "id": "z7q9VpBNTpxH",
        "outputId": "e1a50502-acbd-436d-f51e-1b03d47ad2fd"
      },
      "source": [
        "# bmi 지수 구하기\n",
        "\n",
        "#입력부\n",
        "weight = float(input('weight(kg) : '))\n",
        "height = float(input('height(cm) : '))"
      ],
      "execution_count": 17,
      "outputs": [
        {
          "output_type": "stream",
          "text": [
            "weight(kg) : 56\n",
            "height(cm) : 172\n"
          ],
          "name": "stdout"
        }
      ]
    },
    {
      "cell_type": "code",
      "metadata": {
        "id": "1-T-9-X-U74n"
      },
      "source": [
        "#제어부\n",
        "BMI = weight / (height/100)**2\n"
      ],
      "execution_count": 18,
      "outputs": []
    },
    {
      "cell_type": "code",
      "metadata": {
        "colab": {
          "base_uri": "https://localhost:8080/"
        },
        "id": "G3hgxCNlVMlI",
        "outputId": "6c2b3560-9e03-4c69-aa48-01fbbfd08386"
      },
      "source": [
        "#출력부\n",
        "print(f'BMI : {BMI: 2f}')"
      ],
      "execution_count": 19,
      "outputs": [
        {
          "output_type": "stream",
          "text": [
            "BMI :  18.929151\n"
          ],
          "name": "stdout"
        }
      ]
    },
    {
      "cell_type": "code",
      "metadata": {
        "colab": {
          "base_uri": "https://localhost:8080/"
        },
        "id": "kZue_KbbVgan",
        "outputId": "3d0b215c-99be-4964-b0ba-2d8affbfe35a"
      },
      "source": [
        "if BMI > 20 :\n",
        "  print('넌 살좀 빼야돼!!!')\n",
        "elif BMI > 30:\n",
        "  print('넌 살좀 빼야돼 !!!!!!!!!!!!!!!!!!!!!!!')\n",
        "elif BMI > 0 and BMI <= 20:\n",
        "  print('정상')"
      ],
      "execution_count": 21,
      "outputs": [
        {
          "output_type": "stream",
          "text": [
            "정상\n"
          ],
          "name": "stdout"
        }
      ]
    },
    {
      "cell_type": "code",
      "metadata": {
        "colab": {
          "base_uri": "https://localhost:8080/"
        },
        "id": "MW2SdHmbVySH",
        "outputId": "c95356bd-d81e-47dc-f755-526e1ba47b5f"
      },
      "source": [
        "#입력부\n",
        "weight = float(input('weight(kg) : '))\n",
        "height = float(input('height(cm) : '))\n",
        "#제어부\n",
        "BMI = weight / (height/100)**2\n",
        "#출력부\n",
        "print(f'BMI : {BMI: 2f}')\n",
        "\n",
        "if BMI > 20 :\n",
        "  print('넌 살좀 빼야돼!!!')\n",
        "elif BMI > 30:\n",
        "  print('넌 살좀 빼야돼 !!!!!!!!!!!!!!!!!!!!!!!')\n",
        "elif BMI > 0 and BMI <= 20:\n",
        "  print('정상')"
      ],
      "execution_count": 22,
      "outputs": [
        {
          "output_type": "stream",
          "text": [
            "weight(kg) : 60\n",
            "height(cm) : 173\n",
            "BMI :  20.047446\n",
            "넌 살좀 빼야돼!!!\n"
          ],
          "name": "stdout"
        }
      ]
    },
    {
      "cell_type": "code",
      "metadata": {
        "id": "uzm2_CKyXAdP"
      },
      "source": [
        "X= 'hello python'"
      ],
      "execution_count": 23,
      "outputs": []
    },
    {
      "cell_type": "code",
      "metadata": {
        "id": "zQSDEmAmavrg"
      },
      "source": [
        "len(x) "
      ],
      "execution_count": null,
      "outputs": []
    },
    {
      "cell_type": "code",
      "metadata": {
        "colab": {
          "base_uri": "https://localhost:8080/"
        },
        "id": "L9JCC69nawvq",
        "outputId": "07d12876-9948-4a04-efd9-710b99b9492f"
      },
      "source": [
        "X.count('H') "
      ],
      "execution_count": 33,
      "outputs": [
        {
          "output_type": "execute_result",
          "data": {
            "text/plain": [
              "0"
            ]
          },
          "metadata": {
            "tags": []
          },
          "execution_count": 33
        }
      ]
    },
    {
      "cell_type": "code",
      "metadata": {
        "colab": {
          "base_uri": "https://localhost:8080/",
          "height": 35
        },
        "id": "xyQWo_Ktb61L",
        "outputId": "e61991d8-3871-46c6-ce9f-0380ad5b77f0"
      },
      "source": [
        "X"
      ],
      "execution_count": 32,
      "outputs": [
        {
          "output_type": "execute_result",
          "data": {
            "application/vnd.google.colaboratory.intrinsic+json": {
              "type": "string"
            },
            "text/plain": [
              "'hello python'"
            ]
          },
          "metadata": {
            "tags": []
          },
          "execution_count": 32
        }
      ]
    },
    {
      "cell_type": "code",
      "metadata": {
        "colab": {
          "base_uri": "https://localhost:8080/"
        },
        "id": "_291mwSecVCL",
        "outputId": "4ff55b1d-b649-4840-dee6-631724b88a91"
      },
      "source": [
        "X.find('o') "
      ],
      "execution_count": 35,
      "outputs": [
        {
          "output_type": "execute_result",
          "data": {
            "text/plain": [
              "4"
            ]
          },
          "metadata": {
            "tags": []
          },
          "execution_count": 35
        }
      ]
    },
    {
      "cell_type": "code",
      "metadata": {
        "colab": {
          "base_uri": "https://localhost:8080/"
        },
        "id": "GMBGiQZ7cev7",
        "outputId": "d47681d9-3299-42b7-968a-3027295b518d"
      },
      "source": [
        "X. index('python')"
      ],
      "execution_count": 36,
      "outputs": [
        {
          "output_type": "execute_result",
          "data": {
            "text/plain": [
              "6"
            ]
          },
          "metadata": {
            "tags": []
          },
          "execution_count": 36
        }
      ]
    },
    {
      "cell_type": "code",
      "metadata": {
        "colab": {
          "base_uri": "https://localhost:8080/",
          "height": 35
        },
        "id": "KdNo_hLxcp0a",
        "outputId": "467580e5-2552-4934-a3ed-dfed665f584c"
      },
      "source": [
        "X[6:]"
      ],
      "execution_count": 39,
      "outputs": [
        {
          "output_type": "execute_result",
          "data": {
            "application/vnd.google.colaboratory.intrinsic+json": {
              "type": "string"
            },
            "text/plain": [
              "'python'"
            ]
          },
          "metadata": {
            "tags": []
          },
          "execution_count": 39
        }
      ]
    },
    {
      "cell_type": "code",
      "metadata": {
        "colab": {
          "base_uri": "https://localhost:8080/",
          "height": 35
        },
        "id": "FdZZ2XvscvHr",
        "outputId": "c1eb148d-212a-4d22-ca7c-5b8d70c02ff0"
      },
      "source": [
        "'-'.join(X)"
      ],
      "execution_count": 40,
      "outputs": [
        {
          "output_type": "execute_result",
          "data": {
            "application/vnd.google.colaboratory.intrinsic+json": {
              "type": "string"
            },
            "text/plain": [
              "'h-e-l-l-o- -p-y-t-h-o-n'"
            ]
          },
          "metadata": {
            "tags": []
          },
          "execution_count": 40
        }
      ]
    },
    {
      "cell_type": "code",
      "metadata": {
        "colab": {
          "base_uri": "https://localhost:8080/",
          "height": 35
        },
        "id": "UFJpw8Mec9qK",
        "outputId": "49270600-729f-48fa-bb10-0ef47b018da7"
      },
      "source": [
        "  X.replace('o','🤣🤣')"
      ],
      "execution_count": 41,
      "outputs": [
        {
          "output_type": "execute_result",
          "data": {
            "application/vnd.google.colaboratory.intrinsic+json": {
              "type": "string"
            },
            "text/plain": [
              "'hell🤣🤣 pyth🤣🤣n'"
            ]
          },
          "metadata": {
            "tags": []
          },
          "execution_count": 41
        }
      ]
    },
    {
      "cell_type": "code",
      "metadata": {
        "colab": {
          "base_uri": "https://localhost:8080/"
        },
        "id": "0PTje78qdp47",
        "outputId": "2db24709-084f-47d7-ef26-f19ced24f5af"
      },
      "source": [
        "# 코로나 어원\n",
        "\n",
        "corona = '''\n",
        "코로나(corona)는 라틴말로 왕관을 뜻하며 통상 태양을 둘러싼 외곽의 빛(광환)을 지칭한다.\n",
        "코로나 바이러스라는 이름은 전자현미경으로 이 바이러스를 관찰했을 때 마치 코로나와 유사한 모양을 띠어 붙여진 이름이다.\n",
        "이번에 중국의 우환에서 시작된 코로나 바이러스는 2019년에 발견된 새로운 코로나 바이러스라는 뜻으로 2019-nCov로 붙여졌다.\n",
        "nCov는 novel(새로운) Cov(코로나 바이러스)라는 뜻이다.\n",
        "'''\n",
        "print('-'*50)\n",
        "sentence = corona.count('.')\n",
        "print(f'{sentence} 개의 문장으로 이루어짐')\n",
        "print(corona.replace('\\n','').split('.'))\n",
        "\n",
        "print()\n",
        "\n",
        "print('-'*50)\n",
        "str = input('찾으려는 단어를 입력하시요 : ')\n",
        "cnt = corona.count(str)\n",
        "print(f\"'{str}'(은/는) {cnt} 번 언급됨\")\n"
      ],
      "execution_count": 45,
      "outputs": [
        {
          "output_type": "stream",
          "text": [
            "--------------------------------------------------\n",
            "4 개의 문장으로 이루어짐\n",
            "['코로나(corona)는 라틴말로 왕관을 뜻하며 통상 태양을 둘러싼 외곽의 빛(광환)을 지칭한다', '코로나 바이러스라는 이름은 전자현미경으로 이 바이러스를 관찰했을 때 마치 코로나와 유사한 모양을 띠어 붙여진 이름이다', '이번에 중국의 우환에서 시작된 코로나 바이러스는 2019년에 발견된 새로운 코로나 바이러스라는 뜻으로 2019-nCov로 붙여졌다', 'nCov는 novel(새로운) Cov(코로나 바이러스)라는 뜻이다', '']\n",
            "\n",
            "--------------------------------------------------\n",
            "찾으려는 단어를 입력하시요 : 바이러스\n",
            "'바이러스'(은/는) 5 번 언급됨\n"
          ],
          "name": "stdout"
        }
      ]
    },
    {
      "cell_type": "code",
      "metadata": {
        "colab": {
          "base_uri": "https://localhost:8080/"
        },
        "id": "VsyZTZZpe5Hb",
        "outputId": "bddd466d-1584-47e9-d67c-0a98bc9e4775"
      },
      "source": [
        "lst = [10, 20, 30]\n",
        "\n",
        "print(f'lst[0] : {lst[0]}')    \n",
        "print(f'lst[-1] : {lst[-1]}')  "
      ],
      "execution_count": 46,
      "outputs": [
        {
          "output_type": "stream",
          "text": [
            "lst[0] : 10\n",
            "lst[-1] : 30\n"
          ],
          "name": "stdout"
        }
      ]
    },
    {
      "cell_type": "code",
      "metadata": {
        "colab": {
          "base_uri": "https://localhost:8080/"
        },
        "id": "PpwDipZfiM3-",
        "outputId": "608a4ee0-08bc-4341-8d2b-b84a724498bf"
      },
      "source": [
        "lst = [10, 20, 30]\n",
        "print(lst[:2])"
      ],
      "execution_count": 47,
      "outputs": [
        {
          "output_type": "stream",
          "text": [
            "[10, 20]\n"
          ],
          "name": "stdout"
        }
      ]
    },
    {
      "cell_type": "code",
      "metadata": {
        "colab": {
          "base_uri": "https://localhost:8080/"
        },
        "id": "12VWDUrniPaN",
        "outputId": "e0f5c8d1-ae98-4a3d-be56-a4cbcfdd966e"
      },
      "source": [
        "lst1 = [10, 20]\n",
        "lst2 = [100, 200]\n",
        "lst3 = lst1 + lst2\n",
        "print(lst3)\n",
        "lst4 = lst3 * 3\n",
        "print(lst4)"
      ],
      "execution_count": 48,
      "outputs": [
        {
          "output_type": "stream",
          "text": [
            "[10, 20, 100, 200]\n",
            "[10, 20, 100, 200, 10, 20, 100, 200, 10, 20, 100, 200]\n"
          ],
          "name": "stdout"
        }
      ]
    },
    {
      "cell_type": "code",
      "metadata": {
        "colab": {
          "base_uri": "https://localhost:8080/"
        },
        "id": "-LzzNOIgiSn9",
        "outputId": "b7d4971c-f236-4eed-a0a3-d3da70b303ba"
      },
      "source": [
        "lst = ['a', 'b', 'c']\n",
        "lst.append('d')\n",
        "print(lst)"
      ],
      "execution_count": 49,
      "outputs": [
        {
          "output_type": "stream",
          "text": [
            "['a', 'b', 'c', 'd']\n"
          ],
          "name": "stdout"
        }
      ]
    },
    {
      "cell_type": "code",
      "metadata": {
        "id": "bpk-_kg0i1g9"
      },
      "source": [
        "1st "
      ],
      "execution_count": null,
      "outputs": []
    },
    {
      "cell_type": "code",
      "metadata": {
        "colab": {
          "base_uri": "https://localhost:8080/"
        },
        "id": "xBGXGVvHjWbe",
        "outputId": "fafcb1bd-a561-4c69-f426-3cc0c6514daa"
      },
      "source": [
        "lst = ['a', 'b', 'c']\n",
        "print(f'c의 개수 lst.count(\"c\") : {lst.count(\"c\")}')"
      ],
      "execution_count": 51,
      "outputs": [
        {
          "output_type": "stream",
          "text": [
            "c의 개수 lst.count(\"c\") : 1\n"
          ],
          "name": "stdout"
        }
      ]
    },
    {
      "cell_type": "code",
      "metadata": {
        "id": "F5MsysXTjbhu"
      },
      "source": [
        "lst = ['a', 'b', 'c']\n",
        "pint(f'b의 위치 lst.index(\"b\") : {lst.index(\"b\")}') "
      ],
      "execution_count": null,
      "outputs": []
    },
    {
      "cell_type": "code",
      "metadata": {
        "colab": {
          "base_uri": "https://localhost:8080/"
        },
        "id": "JpQ58KqRjgDN",
        "outputId": "971b93b5-f3a6-468a-8128-63a6d392c84d"
      },
      "source": [
        "st = ['a', 'b', 'c']\n",
        "\n",
        "lst[0] = 'e'\n",
        "\n",
        "print(f'리스트 수정:{lst}')"
      ],
      "execution_count": 54,
      "outputs": [
        {
          "output_type": "stream",
          "text": [
            "리스트 수정:['e', 'b', 'c']\n"
          ],
          "name": "stdout"
        }
      ]
    },
    {
      "cell_type": "code",
      "metadata": {
        "colab": {
          "base_uri": "https://localhost:8080/"
        },
        "id": "t__xumZajoAe",
        "outputId": "1f9e93e5-bdab-4d1d-b791-02f7aeafd4b4"
      },
      "source": [
        "lst"
      ],
      "execution_count": 55,
      "outputs": [
        {
          "output_type": "execute_result",
          "data": {
            "text/plain": [
              "['e', 'b', 'c']"
            ]
          },
          "metadata": {
            "tags": []
          },
          "execution_count": 55
        }
      ]
    },
    {
      "cell_type": "code",
      "metadata": {
        "id": "sBoNM4-gkcru"
      },
      "source": [
        "lst. reverse()"
      ],
      "execution_count": null,
      "outputs": []
    }
  ]
}